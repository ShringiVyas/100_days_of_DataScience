{
 "cells": [
  {
   "cell_type": "markdown",
   "metadata": {},
   "source": [
    "Sorting and filtering Data"
   ]
  },
  {
   "cell_type": "code",
   "execution_count": 10,
   "metadata": {},
   "outputs": [
    {
     "name": "stdout",
     "output_type": "stream",
     "text": [
      "(1, 'Bob', 15, 93.0)\n",
      "(2, 'Sahil', 15, 93.0)\n",
      "(3, 'Bob', 15, 93.0)\n",
      "(4, 'Sahil', 15, 93.0)\n",
      "(5, 'Bob', 15, 93.0)\n",
      "(6, 'Sahil', 15, 93.0)\n",
      "(7, 'Bob', 15, 93.0)\n",
      "(8, 'Sahil', 15, 93.0)\n",
      "(9, 'Bob', 15, 93.0)\n",
      "(10, 'Sahil', 15, 93.0)\n",
      "(12, 'xyz', 13, 88.0)\n",
      "(11, 'abc', 10, 80.0)\n"
     ]
    }
   ],
   "source": [
    "import sqlite3\n",
    "\n",
    "db = sqlite3.connect('DataScience.db')\n",
    "cursor = db.cursor()\n",
    "\n",
    "query = \"select * from students where age > ? order by grade desc\"\n",
    "age_limit = 9\n",
    "cursor.execute(query, (age_limit,))\n",
    "rows = cursor.fetchall()\n",
    "\n",
    "for i in rows:\n",
    "    print(i)"
   ]
  },
  {
   "cell_type": "code",
   "execution_count": 12,
   "metadata": {},
   "outputs": [
    {
     "name": "stdout",
     "output_type": "stream",
     "text": [
      "(1, 'Bob', 15, 93.0)\n",
      "(2, 'Sahil', 15, 93.0)\n",
      "(3, 'Bob', 15, 93.0)\n",
      "(4, 'Sahil', 15, 93.0)\n",
      "(5, 'Bob', 15, 93.0)\n",
      "(6, 'Sahil', 15, 93.0)\n",
      "(7, 'Bob', 15, 93.0)\n",
      "(8, 'Sahil', 15, 93.0)\n",
      "(9, 'Bob', 15, 93.0)\n",
      "(10, 'Sahil', 15, 93.0)\n",
      "(12, 'xyz', 13, 88.0)\n"
     ]
    }
   ],
   "source": [
    "#defining sorting and filtering conditions\n",
    "sorting_condition = 'age DESC'\n",
    "filtering_condition = 'grade > 80'\n",
    "\n",
    "query1 = f'select * from students where {filtering_condition} order by {sorting_condition}'\n",
    "cursor.execute(query1)\n",
    "\n",
    "results = cursor.fetchall()\n",
    "for row in results:\n",
    "    print(row)\n"
   ]
  },
  {
   "cell_type": "code",
   "execution_count": 5,
   "metadata": {},
   "outputs": [],
   "source": [
    "\n",
    "import sqlite3\n",
    "db = sqlite3.connect('DataScience.db')\n",
    "cursor = db.cursor()\n",
    "\n",
    "# cursor.execute('''create table if not exists numbers (\n",
    "#                id integer primary key,\n",
    "#                num1 integer,\n",
    "#                num2 integer\n",
    "# )''')\n",
    "# cursor.execute(\"insert into numbers (num1, num2) values (?, ?)\", (5, 4))\n",
    "query2 = 'select * from numbers where num1 >= ? order by num1 asc'\n",
    "num1_limit = 0\n",
    "cursor.execute(query2, (num1_limit,))\n",
    "\n",
    "output = cursor.fetchall()\n",
    "for a in output:\n",
    "    print(a)\n"
   ]
  },
  {
   "cell_type": "code",
   "execution_count": 3,
   "metadata": {},
   "outputs": [
    {
     "name": "stdout",
     "output_type": "stream",
     "text": [
      "id | num1 | num2\n"
     ]
    }
   ],
   "source": [
    "cursor.execute(\"select * from numbers\")\n",
    "rows = cursor.fetchall()\n",
    "print(\"id | num1 | num2\")\n",
    "for i in rows:\n",
    "    print(f\"{i[0]} | {i[1]} | {i[2]}\")"
   ]
  }
 ],
 "metadata": {
  "kernelspec": {
   "display_name": "base",
   "language": "python",
   "name": "python3"
  },
  "language_info": {
   "codemirror_mode": {
    "name": "ipython",
    "version": 3
   },
   "file_extension": ".py",
   "mimetype": "text/x-python",
   "name": "python",
   "nbconvert_exporter": "python",
   "pygments_lexer": "ipython3",
   "version": "3.10.9"
  }
 },
 "nbformat": 4,
 "nbformat_minor": 2
}
