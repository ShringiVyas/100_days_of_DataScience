{
 "cells": [
  {
   "cell_type": "markdown",
   "metadata": {},
   "source": [
    "Libraries in Python"
   ]
  },
  {
   "cell_type": "code",
   "execution_count": 10,
   "metadata": {},
   "outputs": [
    {
     "name": "stdout",
     "output_type": "stream",
     "text": [
      "23\n"
     ]
    }
   ],
   "source": [
    "#Numpy\n",
    "#Array creation/ maipulation: numpy.array(), numpy.arange(), numpy.reshape()\n",
    "#Array operations: numpy.sum(), numpy.mean(), numpy.dot()\n",
    "#random number generation: numpy.random.rand(), numpy.random.randn()\n",
    "\n",
    "import numpy as np\n",
    "array1 = np.array([[9,5,9]])\n",
    "print(np.sum(array1))\n"
   ]
  },
  {
   "cell_type": "code",
   "execution_count": 16,
   "metadata": {},
   "outputs": [
    {
     "data": {
      "text/html": [
       "<div>\n",
       "<style scoped>\n",
       "    .dataframe tbody tr th:only-of-type {\n",
       "        vertical-align: middle;\n",
       "    }\n",
       "\n",
       "    .dataframe tbody tr th {\n",
       "        vertical-align: top;\n",
       "    }\n",
       "\n",
       "    .dataframe thead th {\n",
       "        text-align: right;\n",
       "    }\n",
       "</style>\n",
       "<table border=\"1\" class=\"dataframe\">\n",
       "  <thead>\n",
       "    <tr style=\"text-align: right;\">\n",
       "      <th></th>\n",
       "      <th>Station ID</th>\n",
       "      <th>Station Name</th>\n",
       "      <th>Distance from Start (km)</th>\n",
       "      <th>Line</th>\n",
       "      <th>Opening Date</th>\n",
       "      <th>Station Layout</th>\n",
       "      <th>Latitude</th>\n",
       "      <th>Longitude</th>\n",
       "    </tr>\n",
       "  </thead>\n",
       "  <tbody>\n",
       "    <tr>\n",
       "      <th>0</th>\n",
       "      <td>1</td>\n",
       "      <td>Jhil Mil</td>\n",
       "      <td>10.3</td>\n",
       "      <td>Red line</td>\n",
       "      <td>06-04-2008</td>\n",
       "      <td>Elevated</td>\n",
       "      <td>18.935457</td>\n",
       "      <td>72.827340</td>\n",
       "    </tr>\n",
       "    <tr>\n",
       "      <th>1</th>\n",
       "      <td>2</td>\n",
       "      <td>Welcome [Conn: Red]</td>\n",
       "      <td>46.8</td>\n",
       "      <td>Pink line</td>\n",
       "      <td>31-10-2018</td>\n",
       "      <td>Elevated</td>\n",
       "      <td>18.945670</td>\n",
       "      <td>72.823781</td>\n",
       "    </tr>\n",
       "    <tr>\n",
       "      <th>2</th>\n",
       "      <td>3</td>\n",
       "      <td>DLF Phase 3</td>\n",
       "      <td>10.0</td>\n",
       "      <td>Rapid Metro</td>\n",
       "      <td>14-11-2013</td>\n",
       "      <td>Elevated</td>\n",
       "      <td>18.951389</td>\n",
       "      <td>72.817365</td>\n",
       "    </tr>\n",
       "    <tr>\n",
       "      <th>3</th>\n",
       "      <td>4</td>\n",
       "      <td>Okhla NSIC</td>\n",
       "      <td>23.8</td>\n",
       "      <td>Magenta line</td>\n",
       "      <td>25-12-2017</td>\n",
       "      <td>Elevated</td>\n",
       "      <td>18.964708</td>\n",
       "      <td>72.815116</td>\n",
       "    </tr>\n",
       "    <tr>\n",
       "      <th>4</th>\n",
       "      <td>5</td>\n",
       "      <td>Dwarka Mor</td>\n",
       "      <td>10.2</td>\n",
       "      <td>Blue line</td>\n",
       "      <td>30-12-2005</td>\n",
       "      <td>Elevated</td>\n",
       "      <td>18.969585</td>\n",
       "      <td>72.819440</td>\n",
       "    </tr>\n",
       "  </tbody>\n",
       "</table>\n",
       "</div>"
      ],
      "text/plain": [
       "   Station ID         Station Name  Distance from Start (km)          Line  \\\n",
       "0           1             Jhil Mil                      10.3      Red line   \n",
       "1           2  Welcome [Conn: Red]                      46.8     Pink line   \n",
       "2           3          DLF Phase 3                      10.0   Rapid Metro   \n",
       "3           4           Okhla NSIC                      23.8  Magenta line   \n",
       "4           5           Dwarka Mor                      10.2     Blue line   \n",
       "\n",
       "  Opening Date Station Layout  Latitude   Longitude  \n",
       "0   06-04-2008       Elevated  18.935457  72.827340  \n",
       "1   31-10-2018       Elevated  18.945670  72.823781  \n",
       "2   14-11-2013       Elevated  18.951389  72.817365  \n",
       "3   25-12-2017       Elevated  18.964708  72.815116  \n",
       "4   30-12-2005       Elevated  18.969585  72.819440  "
      ]
     },
     "execution_count": 16,
     "metadata": {},
     "output_type": "execute_result"
    }
   ],
   "source": [
    "#pandas\n",
    "#reading: pandas.read_csv(), pandas.read_excel()\n",
    "#data exploration: DtaFrame.head(), DataFrame.info(), DataFrame.describe()\n",
    "#data manipulation: DataFrame.groupby(), DataFrame.merge(), DataFrame.drop()\n",
    "\n",
    "import pandas as pd\n",
    "df =  pd.read_csv('c:/Users/vineet/Downloads/Delhi-Metro-Network.csv')\n",
    "df.head()\n",
    "\n"
   ]
  },
  {
   "cell_type": "code",
   "execution_count": 17,
   "metadata": {},
   "outputs": [
    {
     "name": "stdout",
     "output_type": "stream",
     "text": [
      "<class 'pandas.core.frame.DataFrame'>\n",
      "RangeIndex: 285 entries, 0 to 284\n",
      "Data columns (total 8 columns):\n",
      " #   Column                    Non-Null Count  Dtype  \n",
      "---  ------                    --------------  -----  \n",
      " 0   Station ID                285 non-null    int64  \n",
      " 1   Station Name              285 non-null    object \n",
      " 2   Distance from Start (km)  285 non-null    float64\n",
      " 3   Line                      285 non-null    object \n",
      " 4   Opening Date              285 non-null    object \n",
      " 5   Station Layout            285 non-null    object \n",
      " 6   Latitude                  202 non-null    float64\n",
      " 7   Longitude                 202 non-null    float64\n",
      "dtypes: float64(3), int64(1), object(4)\n",
      "memory usage: 17.9+ KB\n"
     ]
    }
   ],
   "source": [
    "df.info()"
   ]
  },
  {
   "cell_type": "code",
   "execution_count": 19,
   "metadata": {},
   "outputs": [
    {
     "data": {
      "text/plain": [
       "Text(0.5, 1.0, 'abc')"
      ]
     },
     "execution_count": 19,
     "metadata": {},
     "output_type": "execute_result"
    },
    {
     "data": {
      "image/png": "[encoded data removed]",
      "text/plain": [
       "<Figure size 640x480 with 1 Axes>"
      ]
     },
     "metadata": {},
     "output_type": "display_data"
    }
   ],
   "source": [
    "#matplotlib\n",
    "#basic plotting: matplotlib.pyplot.plot(), matplotlib.pyplot.scatter()\n",
    "#customizing plots: matplotlib.pyplot.xlabel(), matplotlib.pyplot.title(), matplotlib.pyplot.legend()\n",
    "#saving plots: matplotlib.pyplot.savefig()\n",
    "\n",
    "\n",
    "import matplotlib.pyplot as plt\n",
    "x = [1, 2, 3, 4, 5]\n",
    "y = [10, 11, 12, 13, 14]\n",
    "plt.plot(x, y)\n",
    "plt.xlabel('X-axis')\n",
    "plt.ylabel('Y-axis')\n",
    "plt.title('abc')\n",
    "\n",
    "\n"
   ]
  },
  {
   "cell_type": "code",
   "execution_count": null,
   "metadata": {},
   "outputs": [],
   "source": [
    "#Requests\n",
    "#sending GET.POST requests: requests.get(), requests.post()\n",
    "#handling response: response.text, response.json()\n",
    "\n",
    "import requests\n",
    "response = requests.get('https://api.example.com/data')\n",
    "print(response.text)"
   ]
  },
  {
   "cell_type": "code",
   "execution_count": null,
   "metadata": {},
   "outputs": [],
   "source": [
    "#tensorflow/ pytorch\n",
    "#model creation: tf.keras.Sequential(), torch.nn.Module\n",
    "#forward pass: model.predict(), model.forward()\n",
    "\n",
    "import tensorflow as tf\n",
    "\n",
    "model = tf.keras.Sequential([\n",
    "    tf.keras.layers.Dense(10, activation = 'relu', input_shape=(784,)),\n",
    "    tf.keras.layers.Dense(10, activation='softmax')\n",
    "])\n",
    "\n",
    "model.compile(optimizer='adam', loss = 'sparse_categorical_crossentropy', metrics = ['accuracy']\n",
    "              )\n",
    "#model.fit(X_train, y_train, epochs=10, batch_size=32)"
   ]
  }
 ],
 "metadata": {
  "kernelspec": {
   "display_name": "base",
   "language": "python",
   "name": "python3"
  },
  "language_info": {
   "codemirror_mode": {
    "name": "ipython",
    "version": 3
   },
   "file_extension": ".py",
   "mimetype": "text/x-python",
   "name": "python",
   "nbconvert_exporter": "python",
   "pygments_lexer": "ipython3",
   "version": "3.10.9"
  }
 },
 "nbformat": 4,
 "nbformat_minor": 2
}
