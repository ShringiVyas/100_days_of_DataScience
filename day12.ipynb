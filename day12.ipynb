{
 "cells": [
  {
   "cell_type": "markdown",
   "metadata": {},
   "source": [
    "Random Variables"
   ]
  },
  {
   "cell_type": "code",
   "execution_count": 2,
   "metadata": {},
   "outputs": [
    {
     "name": "stdout",
     "output_type": "stream",
     "text": [
      "random variable 1 (feature 0):\n",
      "[5.1 4.9 4.7 4.6 5.  5.4 4.6 5.  4.4 4.9]\n",
      "\n",
      "random variable 2 (feature 1):\n",
      "[3.5 3.  3.2 3.1 3.6 3.9 3.4 3.4 2.9 3.1]\n",
      "\n",
      "random variable 3 (feature 2):\n",
      "[1.4 1.4 1.3 1.5 1.4 1.7 1.4 1.5 1.4 1.5]\n",
      "\n",
      "random variable 4 (feature 3):\n",
      "[0.2 0.2 0.2 0.2 0.2 0.4 0.3 0.2 0.2 0.1]\n",
      "\n"
     ]
    }
   ],
   "source": [
    "import numpy as np\n",
    "from sklearn.datasets import load_iris\n",
    "\n",
    "#loading the iris dataset\n",
    "iris = load_iris()\n",
    "data = iris.data\n",
    "\n",
    "#defining random variables\n",
    "random_variables_indices = [0, 1, 2, 3] #indices of features: sepal length, sepal width, petal length, petal width\n",
    "random_variables = []\n",
    "for index in random_variables_indices:\n",
    "    random_variables.append(data[:, index])\n",
    "for i, variable in enumerate(random_variables):\n",
    "    print(f\"random variable {i+1} (feature {random_variables_indices[i]}):\")\n",
    "    print(variable[:10])\n",
    "    print()\n",
    "\n",
    "\n",
    "\n"
   ]
  },
  {
   "cell_type": "markdown",
   "metadata": {},
   "source": [
    "Binomial Theorem"
   ]
  },
  {
   "cell_type": "code",
   "execution_count": 5,
   "metadata": {},
   "outputs": [
    {
     "name": "stdout",
     "output_type": "stream",
     "text": [
      "Binomial Distribution: \n",
      "probability of 0 successes: 0.36416968008711675\n",
      "probability of 1 successes: 0.37160171437460954\n",
      "probability of 2 successes: 0.18580085718730477\n",
      "probability of 3 successes: 0.060669667652997375\n",
      "probability of 4 successes: 0.014548338671892216\n",
      "probability of 5 successes: 0.0027315248118654854\n",
      "probability of 6 successes: 0.0004180905324283901\n",
      "probability of 7 successes: 5.363260474300058e-05\n",
      "probability of 8 successes: 5.883168377420997e-06\n",
      "probability of 9 successes: 5.603017502305686e-07\n",
      "probability of 10 successes: 4.688239134582297e-08\n",
      "probability of 11 successes: 3.479212715831026e-09\n",
      "probability of 12 successes: 2.3076410870307814e-10\n",
      "probability of 13 successes: 1.37661477719262e-11\n",
      "probability of 14 successes: 7.42489019768611e-13\n",
      "probability of 15 successes: 3.636680913152395e-14\n",
      "probability of 16 successes: 1.623518264800171e-15\n",
      "probability of 17 successes: 6.626605162449684e-17\n",
      "probability of 18 successes: 2.479342067583217e-18\n",
      "probability of 19 successes: 8.521906139920828e-20\n",
      "probability of 20 successes: 2.695705003444346e-21\n",
      "probability of 21 successes: 7.859198260770671e-23\n",
      "probability of 22 successes: 2.114255561802874e-24\n",
      "probability of 23 successes: 5.252808849199686e-26\n",
      "probability of 24 successes: 1.2060020317040094e-27\n",
      "probability of 25 successes: 2.559677781575861e-29\n",
      "probability of 26 successes: 5.0229155839400645e-31\n",
      "probability of 27 successes: 9.111865004879943e-33\n",
      "probability of 28 successes: 1.527499235511942e-34\n",
      "probability of 29 successes: 2.3648827010037236e-36\n",
      "probability of 30 successes: 3.37840385857672e-38\n",
      "probability of 31 successes: 4.448194678837049e-40\n",
      "probability of 32 successes: 5.390031817468361e-42\n",
      "probability of 33 successes: 6.000035418332117e-44\n",
      "probability of 34 successes: 6.122485120747086e-46\n",
      "probability of 35 successes: 5.711939471250912e-48\n",
      "probability of 36 successes: 4.857091387118108e-50\n",
      "probability of 37 successes: 3.750649719782336e-52\n",
      "probability of 38 successes: 2.618606141631059e-54\n",
      "probability of 39 successes: 1.6443366666443106e-56\n",
      "probability of 40 successes: 9.228420067901746e-59\n",
      "probability of 41 successes: 4.593539107965019e-61\n",
      "probability of 42 successes: 2.0088363445911135e-63\n",
      "probability of 43 successes: 7.62728559882719e-66\n",
      "probability of 44 successes: 2.4763914281906572e-68\n",
      "probability of 45 successes: 6.738480076709283e-71\n",
      "probability of 46 successes: 1.4947826257119045e-73\n",
      "probability of 47 successes: 2.5962355635465052e-76\n",
      "probability of 48 successes: 3.311524953503195e-79\n",
      "probability of 49 successes: 2.7584547717644287e-82\n",
      "probability of 50 successes: 1.1258999068426252e-85\n"
     ]
    }
   ],
   "source": [
    "#Binomial Theorem\n",
    "import numpy as np\n",
    "from sklearn.datasets import load_iris\n",
    "from scipy.stats import binom\n",
    "\n",
    "#loading iris dataset\n",
    "iris = load_iris()\n",
    "target = iris.target\n",
    "\n",
    "#define binary feature based on sepal length\n",
    "threshold_sepal_length = 5.5\n",
    "binary_feature = (iris.data[:, 0] > threshold_sepal_length).astype(int)\n",
    "\n",
    "#count the occurrences of iris setosa for the binary feature\n",
    "count_successes = np.sum((binary_feature == 1) & (target == 0))\n",
    "\n",
    "#total number of trials (number of iris flowers)\n",
    "total_trials = len(iris.data)\n",
    "\n",
    "\n",
    "#success probability : flower being setosa\n",
    "p_success = count_successes / total_trials\n",
    "\n",
    "\n",
    "#define the number of trials\n",
    "n_trials = 50\n",
    "\n",
    "#binomial distribution calculation\n",
    "binomial_dist = binom(n_trials, p_success)\n",
    "\n",
    "print(\"Binomial Distribution: \")\n",
    "for i in range(n_trials + 1):\n",
    "    print(f\"probability of {i} successes: {binomial_dist.pmf(i)}\")\n"
   ]
  }
 ],
 "metadata": {
  "kernelspec": {
   "display_name": "base",
   "language": "python",
   "name": "python3"
  },
  "language_info": {
   "codemirror_mode": {
    "name": "ipython",
    "version": 3
   },
   "file_extension": ".py",
   "mimetype": "text/x-python",
   "name": "python",
   "nbconvert_exporter": "python",
   "pygments_lexer": "ipython3",
   "version": "3.10.9"
  }
 },
 "nbformat": 4,
 "nbformat_minor": 2
}
