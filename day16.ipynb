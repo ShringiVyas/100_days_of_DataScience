{
 "cells": [
  {
   "cell_type": "markdown",
   "metadata": {},
   "source": [
    "# SQL using PYTHON"
   ]
  },
  {
   "cell_type": "code",
   "execution_count": 1,
   "metadata": {},
   "outputs": [
    {
     "data": {
      "text/plain": [
       "<sqlite3.Cursor at 0x18939632340>"
      ]
     },
     "execution_count": 1,
     "metadata": {},
     "output_type": "execute_result"
    }
   ],
   "source": [
    "import sqlite3\n",
    "\n",
    "#connect SQLite database (if db is not created, sqlite3 will create)\n",
    "db = sqlite3.connect('DataScience.db')\n",
    "\n",
    "#create a cusrsor object to execute SQL Commands\n",
    "cursor = db.cursor()\n",
    "\n",
    "#Creating a Table\n",
    "cursor.execute('''CREATE TABLE IF NOT EXISTS students (\n",
    "                id INTEGER PRIMARY KEY,\n",
    "                name TEXT NOT NULL,\n",
    "                age INTEGER,\n",
    "                grade REAL\n",
    "                )''')"
   ]
  },
  {
   "cell_type": "code",
   "execution_count": 2,
   "metadata": {},
   "outputs": [
    {
     "data": {
      "text/plain": [
       "<sqlite3.Cursor at 0x18939632340>"
      ]
     },
     "execution_count": 2,
     "metadata": {},
     "output_type": "execute_result"
    }
   ],
   "source": [
    "#Insert data into the table\n",
    "cursor.execute(\"INSERT INTO students (name, age, grade) values (?,?,?)\", ('Bob', 15, 93))\n",
    "cursor.execute(\"INSERT INTO students (name, age, grade) values (?,?,?)\", ('Sahil', 15, 93))\n"
   ]
  },
  {
   "cell_type": "code",
   "execution_count": 3,
   "metadata": {},
   "outputs": [
    {
     "data": {
      "text/plain": [
       "<sqlite3.Cursor at 0x18939632340>"
      ]
     },
     "execution_count": 3,
     "metadata": {},
     "output_type": "execute_result"
    }
   ],
   "source": [
    "cursor.execute(\"insert into students(name, age, grade) values (?,?,?)\", ('abc', 10, 80))\n",
    "cursor.execute(\"insert into students (name, age, grade) values (?,?,?)\", ('xyz', 13, 88))"
   ]
  },
  {
   "cell_type": "code",
   "execution_count": 4,
   "metadata": {},
   "outputs": [],
   "source": [
    "#save (commit) the changes\n",
    "db.commit()\n"
   ]
  },
  {
   "cell_type": "code",
   "execution_count": 5,
   "metadata": {},
   "outputs": [
    {
     "name": "stdout",
     "output_type": "stream",
     "text": [
      "[(1, 'Bob', 15, 93.0), (2, 'Sahil', 15, 93.0), (3, 'Bob', 15, 93.0), (4, 'Sahil', 15, 93.0), (5, 'Bob', 15, 93.0), (6, 'Sahil', 15, 93.0), (7, 'Bob', 15, 93.0), (8, 'Sahil', 15, 93.0), (9, 'Bob', 15, 93.0), (10, 'Sahil', 15, 93.0), (11, 'abc', 10, 80.0), (12, 'xyz', 13, 88.0)]\n"
     ]
    }
   ],
   "source": [
    "#query the data\n",
    "cursor.execute(\"Select * from students\")\n",
    "rows = cursor.fetchall()\n",
    "print(rows)"
   ]
  },
  {
   "cell_type": "code",
   "execution_count": 6,
   "metadata": {},
   "outputs": [
    {
     "name": "stdout",
     "output_type": "stream",
     "text": [
      "(1, 'Bob', 15, 93.0)\n",
      "(2, 'Sahil', 15, 93.0)\n",
      "(3, 'Bob', 15, 93.0)\n",
      "(4, 'Sahil', 15, 93.0)\n",
      "(5, 'Bob', 15, 93.0)\n",
      "(6, 'Sahil', 15, 93.0)\n",
      "(7, 'Bob', 15, 93.0)\n",
      "(8, 'Sahil', 15, 93.0)\n",
      "(9, 'Bob', 15, 93.0)\n",
      "(10, 'Sahil', 15, 93.0)\n",
      "(11, 'abc', 10, 80.0)\n",
      "(12, 'xyz', 13, 88.0)\n"
     ]
    }
   ],
   "source": [
    "#print the query data\n",
    "for i in rows:\n",
    "    print(i)"
   ]
  },
  {
   "cell_type": "code",
   "execution_count": 7,
   "metadata": {},
   "outputs": [
    {
     "name": "stdout",
     "output_type": "stream",
     "text": [
      "(1, 'Bob', 15, 93.0)\n"
     ]
    }
   ],
   "source": [
    "#Fetchone\n",
    "cursor.execute(\"select * from students\")\n",
    "i1 = cursor.fetchone()\n",
    "print(i1)\n"
   ]
  },
  {
   "cell_type": "code",
   "execution_count": 8,
   "metadata": {},
   "outputs": [
    {
     "name": "stdout",
     "output_type": "stream",
     "text": [
      "[(1, 'Bob', 15, 93.0), (2, 'Sahil', 15, 93.0)]\n"
     ]
    }
   ],
   "source": [
    "#fetchmany\n",
    "cursor.execute(\"select * from students\")\n",
    "i2 = cursor.fetchmany(2)\n",
    "print(i2)"
   ]
  },
  {
   "cell_type": "code",
   "execution_count": 11,
   "metadata": {},
   "outputs": [
    {
     "name": "stdout",
     "output_type": "stream",
     "text": [
      "id | name | age | grade\n",
      "1 | Bob | 15 | 93.0\n",
      "2 | Sahil | 15 | 93.0\n",
      "3 | Bob | 15 | 93.0\n",
      "4 | Sahil | 15 | 93.0\n",
      "5 | Bob | 15 | 93.0\n",
      "6 | Sahil | 15 | 93.0\n",
      "7 | Bob | 15 | 93.0\n",
      "8 | Sahil | 15 | 93.0\n",
      "9 | Bob | 15 | 93.0\n",
      "10 | Sahil | 15 | 93.0\n",
      "11 | abc | 10 | 80.0\n",
      "12 | xyz | 13 | 88.0\n"
     ]
    }
   ],
   "source": [
    "cursor.execute(\"select * from students\")\n",
    "rows = cursor.fetchall()\n",
    "print(\"id | name | age | grade\")\n",
    "for i in rows:\n",
    "    print(f\"{i[0]} | {i[1]} | {i[2]} | {i[3]}\")"
   ]
  },
  {
   "cell_type": "code",
   "execution_count": 9,
   "metadata": {},
   "outputs": [],
   "source": [
    "\n",
    "## close the cursor and connection\n",
    "# cursor.close()\n",
    "# db.close()\n"
   ]
  }
 ],
 "metadata": {
  "kernelspec": {
   "display_name": "base",
   "language": "python",
   "name": "python3"
  },
  "language_info": {
   "codemirror_mode": {
    "name": "ipython",
    "version": 3
   },
   "file_extension": ".py",
   "mimetype": "text/x-python",
   "name": "python",
   "nbconvert_exporter": "python",
   "pygments_lexer": "ipython3",
   "version": "3.10.9"
  }
 },
 "nbformat": 4,
 "nbformat_minor": 2
}
