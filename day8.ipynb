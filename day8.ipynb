{
 "cells": [
  {
   "cell_type": "markdown",
   "metadata": {},
   "source": [
    "TYPES OF INHERITANCE"
   ]
  },
  {
   "cell_type": "code",
   "execution_count": 3,
   "metadata": {},
   "outputs": [
    {
     "name": "stdout",
     "output_type": "stream",
     "text": [
      "main class constructor\n",
      "sub class constructor\n",
      "main class method\n",
      "sub class method\n"
     ]
    }
   ],
   "source": [
    "#single inheritance\n",
    "class main_class:\n",
    "    def __init__(self):\n",
    "        print(\"main class constructor\")\n",
    "    def mainclass_method(self):\n",
    "        print(\"main class method\")\n",
    "\n",
    "class sub_class(main_class):\n",
    "    def __init__(self):\n",
    "        super().__init__()\n",
    "        print(\"sub class constructor\")\n",
    "    def subclass_method(self):\n",
    "        print(\"sub class method\")\n",
    "subclass = sub_class()\n",
    "subclass.mainclass_method()\n",
    "subclass.subclass_method()\n"
   ]
  },
  {
   "cell_type": "code",
   "execution_count": 4,
   "metadata": {},
   "outputs": [
    {
     "name": "stdout",
     "output_type": "stream",
     "text": [
      "main class 1 method\n",
      "main class 2 method\n",
      "sub class method\n"
     ]
    }
   ],
   "source": [
    "#multiple inheritance\n",
    "class main_class1:\n",
    "    def mainclass1_method(self):\n",
    "        print(\"main class 1 method\")\n",
    "class main_class2:\n",
    "    def mainclass2_method(self):\n",
    "        print(\"main class 2 method\")\n",
    "class sub_class(main_class1, main_class2):\n",
    "    def subclass_method(slef):\n",
    "        print(\"sub class method\")\n",
    "s_class = sub_class()\n",
    "s_class.mainclass1_method()\n",
    "s_class.mainclass2_method()\n",
    "s_class.subclass_method()\n"
   ]
  },
  {
   "cell_type": "code",
   "execution_count": 7,
   "metadata": {},
   "outputs": [
    {
     "name": "stdout",
     "output_type": "stream",
     "text": [
      "grandparent method\n",
      "parent method\n",
      "child method\n"
     ]
    }
   ],
   "source": [
    "#multi-level inheritance\n",
    "class grand_parent:\n",
    "    def grandparent_method(self):\n",
    "        print(\"grandparent method\")\n",
    "class parent(grand_parent):\n",
    "    def parent_method(self):\n",
    "        print(\"parent method\")\n",
    "class child (parent):\n",
    "    def child_method(self):\n",
    "        print(\"child method\")\n",
    "child1 = child()\n",
    "child1.grandparent_method()\n",
    "child1.parent_method()\n",
    "child1.child_method()"
   ]
  },
  {
   "cell_type": "code",
   "execution_count": 10,
   "metadata": {},
   "outputs": [
    {
     "name": "stdout",
     "output_type": "stream",
     "text": [
      "parent method\n",
      "child 1 method\n",
      "parent method\n",
      "child 2 method\n"
     ]
    }
   ],
   "source": [
    "#heirarchial inheritance\n",
    "class parent:\n",
    "    def parent_method(self):\n",
    "        print(\"parent method\")\n",
    "class child1(parent):\n",
    "    def child1_method(self):\n",
    "        print(\"child 1 method\")\n",
    "class child2(parent):\n",
    "    def child2_method(self):\n",
    "        print(\"child 2 method\")\n",
    "child_1 = child1()\n",
    "child_2 = child2()\n",
    "child_1.parent_method()\n",
    "child_1.child1_method()\n",
    "\n",
    "child_2.parent_method()\n",
    "child_2.child2_method()\n",
    "\n",
    "\n",
    "\n"
   ]
  },
  {
   "cell_type": "code",
   "execution_count": 15,
   "metadata": {},
   "outputs": [
    {
     "name": "stdout",
     "output_type": "stream",
     "text": [
      "method A\n",
      "method B\n",
      "method C\n",
      "method_D\n"
     ]
    }
   ],
   "source": [
    "#Hybrid inheritance\n",
    "class A:\n",
    "    def method_a(self):\n",
    "        print(\"method A\")\n",
    "class B (A):\n",
    "    def method_b(self):\n",
    "        print(\"method B\")\n",
    "class C (A):\n",
    "    def method_c (self):\n",
    "        print(\"method C\")\n",
    "class D (B, C):\n",
    "    def method_d (self):\n",
    "        print(\"method_D\")\n",
    "object1 = D()\n",
    "object1.method_a()\n",
    "object1.method_b()\n",
    "object1.method_c()\n",
    "object1.method_d()"
   ]
  }
 ],
 "metadata": {
  "kernelspec": {
   "display_name": "base",
   "language": "python",
   "name": "python3"
  },
  "language_info": {
   "codemirror_mode": {
    "name": "ipython",
    "version": 3
   },
   "file_extension": ".py",
   "mimetype": "text/x-python",
   "name": "python",
   "nbconvert_exporter": "python",
   "pygments_lexer": "ipython3",
   "version": "3.10.9"
  }
 },
 "nbformat": 4,
 "nbformat_minor": 2
}
