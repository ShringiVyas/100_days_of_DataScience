{
 "cells": [
  {
   "cell_type": "raw",
   "id": "f2dafd38-7b81-4ab3-bddf-aa78f3a5fd59",
   "metadata": {},
   "source": [
    "VARIABLES AND DATA TYPES"
   ]
  },
  {
   "cell_type": "code",
   "execution_count": 2,
   "id": "40469fcd-786e-47e0-a637-f881455391d8",
   "metadata": {},
   "outputs": [
    {
     "name": "stdout",
     "output_type": "stream",
     "text": [
      "Hello World\n"
     ]
    },
    {
     "data": {
      "text/plain": [
       "True"
      ]
     },
     "execution_count": 2,
     "metadata": {},
     "output_type": "execute_result"
    }
   ],
   "source": [
    "print(\"Hello World\")\n",
    "\n",
    "name = \"John\"\n",
    "age=25\n",
    "height=5.8\n",
    "is_student=True\n",
    "is_student\n"
   ]
  },
  {
   "cell_type": "code",
   "execution_count": 13,
   "id": "bcc0c0c9-1e4f-4e0e-834b-f5639b4f6564",
   "metadata": {},
   "outputs": [],
   "source": [
    "add = 10+5\n",
    "difference = 10-5\n",
    "product=10*5\n",
    "\n",
    "quotient = 10/5\n",
    "quotient2 = 10//5\n",
    "\n",
    "remainder = 10%5\n",
    "power = 10**2\n"
   ]
  },
  {
   "cell_type": "raw",
   "id": "ae1022bd-0ebc-4e3d-a3a8-8e82ecca51db",
   "metadata": {},
   "source": [
    "Data Structures: Lists[], tuple(), dictionary{}"
   ]
  },
  {
   "cell_type": "code",
   "execution_count": 4,
   "id": "173f4c19-775c-406d-afc1-5de805b7c445",
   "metadata": {},
   "outputs": [
    {
     "name": "stdout",
     "output_type": "stream",
     "text": [
      "(1, 2, 3, 4, 5) [1, 2, 3, 4, 5]\n"
     ]
    }
   ],
   "source": [
    "list1=[1,2,3,4,5]\n",
    "tuple1=(1,2,3,4,5)\n",
    "dict1={'name':'john', 'age':25, 'roll_no':100}\n",
    "\n",
    "#list to tuple\n",
    "tuple2 = tuple(list1)\n",
    "\n",
    "#tuple to list\n",
    "list2 = list(tuple1)\n",
    "\n",
    "print(tuple2, list2)"
   ]
  },
  {
   "cell_type": "code",
   "execution_count": 24,
   "id": "fcf6f6c8",
   "metadata": {},
   "outputs": [
    {
     "name": "stdout",
     "output_type": "stream",
     "text": [
      "[4, 5]\n"
     ]
    },
    {
     "data": {
      "text/plain": [
       "[1, 2, 4, 5, 10]"
      ]
     },
     "execution_count": 24,
     "metadata": {},
     "output_type": "execute_result"
    }
   ],
   "source": [
    "#slicing\n",
    "print(list1[2:4])\n",
    "\n",
    "list3 = [1,2,3,4,5]\n",
    "#appending\n",
    "list3.append(10)\n",
    "\n",
    "#removing elements\n",
    "list3.remove(3)\n",
    "\n",
    "list3"
   ]
  },
  {
   "cell_type": "code",
   "execution_count": 25,
   "id": "74fed3fc",
   "metadata": {},
   "outputs": [
    {
     "data": {
      "text/plain": [
       "10"
      ]
     },
     "execution_count": 25,
     "metadata": {},
     "output_type": "execute_result"
    }
   ],
   "source": [
    "pop_elements = list3.pop()\n",
    "pop_elements"
   ]
  },
  {
   "cell_type": "code",
   "execution_count": 26,
   "id": "a4d1dfdc",
   "metadata": {},
   "outputs": [
    {
     "name": "stdout",
     "output_type": "stream",
     "text": [
      "john\n"
     ]
    }
   ],
   "source": [
    "#Dict operations\n",
    "\n",
    "print(dict1['name'])"
   ]
  },
  {
   "cell_type": "code",
   "execution_count": 29,
   "id": "da1b0eb0",
   "metadata": {},
   "outputs": [
    {
     "data": {
      "text/plain": [
       "{'name': 'john',\n",
       " 'age': 25,\n",
       " 'roll_no': 100,\n",
       " 'phone: ': 123,\n",
       " 'occupation: ': 'employee'}"
      ]
     },
     "execution_count": 29,
     "metadata": {},
     "output_type": "execute_result"
    }
   ],
   "source": [
    "dict1['phone: '] = 123\n",
    "dict1['occupation: '] = 'employee'\n",
    "dict1"
   ]
  },
  {
   "cell_type": "code",
   "execution_count": 31,
   "id": "a265d62c",
   "metadata": {},
   "outputs": [
    {
     "data": {
      "text/plain": [
       "{'name': 'john', 'age': 25, 'roll_no': 100, 'occupation: ': 'employee'}"
      ]
     },
     "execution_count": 31,
     "metadata": {},
     "output_type": "execute_result"
    }
   ],
   "source": [
    "del dict1['phone: ']\n",
    "dict1"
   ]
  },
  {
   "cell_type": "code",
   "execution_count": 33,
   "id": "1c2b1e7e",
   "metadata": {},
   "outputs": [
    {
     "data": {
      "text/plain": [
       "100"
      ]
     },
     "execution_count": 33,
     "metadata": {},
     "output_type": "execute_result"
    }
   ],
   "source": [
    "pop_dict = dict1.pop('roll_no')\n",
    "pop_dict"
   ]
  }
 ],
 "metadata": {
  "kernelspec": {
   "display_name": "Python 3 (ipykernel)",
   "language": "python",
   "name": "python3"
  },
  "language_info": {
   "codemirror_mode": {
    "name": "ipython",
    "version": 3
   },
   "file_extension": ".py",
   "mimetype": "text/x-python",
   "name": "python",
   "nbconvert_exporter": "python",
   "pygments_lexer": "ipython3",
   "version": "3.10.9"
  }
 },
 "nbformat": 4,
 "nbformat_minor": 5
}
