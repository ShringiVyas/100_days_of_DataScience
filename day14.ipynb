{
 "cells": [
  {
   "cell_type": "markdown",
   "metadata": {},
   "source": [
    "Linear Regression"
   ]
  },
  {
   "cell_type": "code",
   "execution_count": 7,
   "metadata": {},
   "outputs": [
    {
     "name": "stdout",
     "output_type": "stream",
     "text": [
      "coefficients:  [0.7554387]\n",
      "intercept:  -3.3968026630372523\n"
     ]
    }
   ],
   "source": [
    "import numpy as np \n",
    "from sklearn.datasets import load_iris\n",
    "from sklearn.model_selection import train_test_split\n",
    "from sklearn.linear_model import LinearRegression\n",
    "from sklearn.metrics import accuracy_score\n",
    "\n",
    "#loading iris dataset\n",
    "iris = load_iris()\n",
    "data=iris.data\n",
    "\n",
    "#considering the first feature i.e. sepal length\n",
    "X = iris.data[:, 0].reshape(-1, 1) #reshape to 2D array\n",
    "y = iris.target \n",
    "\n",
    "#splitting the dataset into training and testing sets\n",
    "X_train, X_test, y_train, y_test = train_test_split(X, y, test_size=0.2, random_state=42)\n",
    "\n",
    "#X_train: training features, X_test: testing features which are used to evaluate the performance of the trained model\n",
    "#y_train: contains the corresponding labels for the training data\n",
    "#y_test: contains corresponding labels for testing data\n",
    "\n",
    "#initialize and fit the linear regression model\n",
    "linear_reg = LinearRegression()\n",
    "linear_reg.fit(X_train, y_train)\n",
    "\n",
    "#make predictions on testing set\n",
    "y_pred = linear_reg.predict(X_test)\n",
    "\n",
    "print(\"coefficients: \", linear_reg.coef_)\n",
    "print(\"intercept: \", linear_reg.intercept_)\n",
    "\n",
    "# #accuracy\n",
    "# print(\"Accuracy: \", accuracy_score(y_test, y_pred))\n"
   ]
  },
  {
   "cell_type": "markdown",
   "metadata": {},
   "source": [
    "Logistic Regression"
   ]
  },
  {
   "cell_type": "code",
   "execution_count": 5,
   "metadata": {},
   "outputs": [
    {
     "name": "stdout",
     "output_type": "stream",
     "text": [
      "Accuracy 1.0\n"
     ]
    }
   ],
   "source": [
    "from sklearn.linear_model import LogisticRegression\n",
    "from sklearn.metrics import accuracy_score\n",
    "import numpy as np\n",
    "from sklearn.datasets import load_iris\n",
    "from sklearn.model_selection import train_test_split\n",
    "\n",
    "#loading the dataset\n",
    "iris = load_iris()\n",
    "\n",
    "#considering 2 classes: iris setosa(class 0) and others (class 1)\n",
    "target = (iris.target == 0).astype(int)\n",
    "\n",
    "#spltitting the dataset into training and testing sets\n",
    "X_train, X_test, y_train, y_test = train_test_split(iris.data, target, test_size = 0.2, random_state=42)\n",
    "\n",
    "#initializing and fitting logistics regression model\n",
    "logistic_reg = LogisticRegression()\n",
    "logistic_reg.fit(X_train, y_train)\n",
    "\n",
    "#predictions on test set\n",
    "y_pred = logistic_reg.predict(X_test)\n",
    "\n",
    "#accuracy\n",
    "print(\"Accuracy\", accuracy_score(y_test, y_pred))\n"
   ]
  }
 ],
 "metadata": {
  "kernelspec": {
   "display_name": "base",
   "language": "python",
   "name": "python3"
  },
  "language_info": {
   "codemirror_mode": {
    "name": "ipython",
    "version": 3
   },
   "file_extension": ".py",
   "mimetype": "text/x-python",
   "name": "python",
   "nbconvert_exporter": "python",
   "pygments_lexer": "ipython3",
   "version": "3.10.9"
  }
 },
 "nbformat": 4,
 "nbformat_minor": 2
}
