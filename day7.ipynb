{
 "cells": [
  {
   "cell_type": "markdown",
   "metadata": {},
   "source": [
    "Object Oriented Programming (OOPs)"
   ]
  },
  {
   "cell_type": "markdown",
   "metadata": {},
   "source": [
    "Abstraction:                                                    \n",
    "-> Hides internal details and shows necessary features or     functionalities to the outside world                            \n",
    "-> It is achieved through the use of abtract classes and interfaces, which define a set of methods or properties that must be implemented by subclasses or concrete classes, but do not provide any implementation for the methods or properties themselves                                                     \n",
    "-> Abstraction allows creating interchangeable components, sa different implementations can be used interchangeably as long as they ashere to the same abstract interface"
   ]
  },
  {
   "cell_type": "code",
   "execution_count": 18,
   "metadata": {},
   "outputs": [
    {
     "name": "stdout",
     "output_type": "stream",
     "text": [
      "Area of Circle: 78.5\n",
      "Perimeter of Circle: 31.400000000000002\n",
      "Area of Rectangle: 24\n",
      "Perimeter of Rectangle: 20\n"
     ]
    }
   ],
   "source": [
    "from abc import ABC, abstractmethod\n",
    "\n",
    "class Shape(ABC): #abstract base class\n",
    "    @abstractmethod\n",
    "    def area(self):  #abstract method 1\n",
    "        pass\n",
    "\n",
    "    @abstractmethod\n",
    "    def perimeter(self):\n",
    "        pass\n",
    "\n",
    "class Circle(Shape): #concrete subclass\n",
    "    def __init__(self, radius):\n",
    "        self.radius = radius\n",
    "\n",
    "    def area(self):\n",
    "        return 3.14 * self.radius ** 2\n",
    "\n",
    "    def perimeter(self):\n",
    "        return 2 * 3.14 * self.radius\n",
    "\n",
    "class Rectangle(Shape): #concrete subclass\n",
    "    def __init__(self, length, width):\n",
    "        self.length = length\n",
    "        self.width = width\n",
    "\n",
    "    def area(self):\n",
    "        return self.length * self.width\n",
    "\n",
    "    def perimeter(self):\n",
    "        return 2 * (self.length + self.width)\n",
    "\n",
    "# Usage\n",
    "circle = Circle(5)\n",
    "print(\"Area of Circle:\", circle.area())\n",
    "print(\"Perimeter of Circle:\", circle.perimeter())\n",
    "\n",
    "rectangle = Rectangle(4, 6)\n",
    "print(\"Area of Rectangle:\", rectangle.area())\n",
    "print(\"Perimeter of Rectangle:\", rectangle.perimeter())\n"
   ]
  },
  {
   "cell_type": "code",
   "execution_count": 13,
   "metadata": {},
   "outputs": [
    {
     "name": "stdout",
     "output_type": "stream",
     "text": [
      "Buddy says: Woof!\n",
      "Whiskers says: Meow!\n"
     ]
    }
   ],
   "source": [
    "from abc import ABC, abstractmethod\n",
    "\n",
    "# Define an abstract base class\n",
    "class Animal(ABC):\n",
    "    def __init__(self, name):\n",
    "        self.name = name\n",
    "    \n",
    "    # Abstract method for making a sound\n",
    "    @abstractmethod\n",
    "    def make_sound(self):\n",
    "        pass\n",
    "\n",
    "# Concrete subclass of Animal\n",
    "class Dog(Animal):\n",
    "    def make_sound(self):\n",
    "        return \"Woof!\"\n",
    "\n",
    "# Concrete subclass of Animal\n",
    "class Cat(Animal):\n",
    "    def make_sound(self):\n",
    "        return \"Meow!\"\n",
    "\n",
    "# Instantiate objects of concrete classes\n",
    "dog = Dog(\"Buddy\")\n",
    "cat = Cat(\"Whiskers\")\n",
    "\n",
    "# Call method defined in abstract base class\n",
    "print(dog.name, \"says:\", dog.make_sound())\n",
    "print(cat.name, \"says:\", cat.make_sound())\n"
   ]
  },
  {
   "cell_type": "markdown",
   "metadata": {},
   "source": [
    "abstract property"
   ]
  },
  {
   "cell_type": "code",
   "execution_count": 23,
   "metadata": {},
   "outputs": [
    {
     "name": "stdout",
     "output_type": "stream",
     "text": [
      "Area of Rectangle: 12\n"
     ]
    }
   ],
   "source": [
    "from abc import ABC, abstractmethod\n",
    "\n",
    "class Shape(ABC):\n",
    "    @property\n",
    "    @abstractmethod\n",
    "    def area(self):\n",
    "        pass\n",
    "\n",
    "class Rectangle(Shape):\n",
    "    def __init__(self, width, height):\n",
    "        self.width = width\n",
    "        self.height = height\n",
    "    \n",
    "    @property\n",
    "    def area(self):\n",
    "        return self.width * self.height\n",
    "\n",
    "# Trying to instantiate Shape directly would raise an error\n",
    "# because area is an abstract property\n",
    "# shape = Shape()  # This would raise an error\n",
    "\n",
    "# Instantiate a concrete subclass\n",
    "rectangle = Rectangle(3, 4)\n",
    "\n",
    "# Access the abstract property\n",
    "print(\"Area of Rectangle:\", rectangle.area)\n"
   ]
  },
  {
   "cell_type": "markdown",
   "metadata": {},
   "source": [
    "ENCAPSULATION"
   ]
  },
  {
   "cell_type": "code",
   "execution_count": 37,
   "metadata": {},
   "outputs": [
    {
     "name": "stdout",
     "output_type": "stream",
     "text": [
      "10\n",
      "20\n",
      "30\n"
     ]
    }
   ],
   "source": [
    "class encapsulation:\n",
    "    def __init__(self):\n",
    "        self.__private_var = 0 #private variable: it can be accessed within the class methods\n",
    "        self.__protected_var = 0 #protected variable: it can be accessed within the class and its subclasses\n",
    "        self.public_var = 0 #public variable: can be accessed directly\n",
    "    \n",
    "    #get and set methods provide controlled access to private and protected variables\n",
    "\n",
    "    #get method () for private variable\n",
    "    def get_private_var(self):\n",
    "        return self.__private_var\n",
    "    \n",
    "    #set method for private variable\n",
    "    def set_private_var(self, value):\n",
    "        self.__private_var = value\n",
    "    \n",
    "    #get method for protected variable\n",
    "    def get_protected_var(self):\n",
    "        return self.__protected_var\n",
    "    \n",
    "    #set method for protected variable\n",
    "    def set_protected_var(self, value):\n",
    "        self.__protected_var = value\n",
    "    \n",
    "#creating an instance of the class\n",
    "obj = encapsulation()\n",
    "\n",
    "#accessing public variable \n",
    "obj.public_var = 10\n",
    "print(obj.public_var)\n",
    "\n",
    "#accessing private variable using get method\n",
    "obj.set_private_var(20)\n",
    "print(obj.get_private_var())\n",
    "\n",
    "#accessing protected variable using get method\n",
    "obj.set_protected_var(30)\n",
    "print(obj.get_protected_var())"
   ]
  },
  {
   "cell_type": "markdown",
   "metadata": {},
   "source": [
    "INHERITANCE"
   ]
  },
  {
   "cell_type": "code",
   "execution_count": 41,
   "metadata": {},
   "outputs": [
    {
     "name": "stdout",
     "output_type": "stream",
     "text": [
      "buddy\n",
      "breed1\n",
      "woof!!!!\n"
     ]
    }
   ],
   "source": [
    "#super class\n",
    "class animal:\n",
    "    def __init__(self, name):\n",
    "        self.name = name\n",
    "    def make_sound(self):\n",
    "        pass\n",
    "\n",
    "#subclass/child class\n",
    "class dog(animal):\n",
    "    def __init__(self, name, breed):\n",
    "        super().__init__(name)\n",
    "        self.breed = breed\n",
    "    def make_sound(self):\n",
    "        return \"woof!!!!\"\n",
    "\n",
    "#creating instances of subclass\n",
    "d1 = dog(\"buddy\", \"breed1\")\n",
    "print(d1.name)\n",
    "print(d1.breed)\n",
    "print(d1.make_sound())"
   ]
  },
  {
   "cell_type": "markdown",
   "metadata": {},
   "source": [
    "POLYMORPHISM"
   ]
  },
  {
   "cell_type": "code",
   "execution_count": 54,
   "metadata": {},
   "outputs": [
    {
     "name": "stdout",
     "output_type": "stream",
     "text": [
      "meow!!!!!\n"
     ]
    }
   ],
   "source": [
    "class animal:\n",
    "    def speak(self):\n",
    "        pass\n",
    "\n",
    "#subclass\n",
    "class cat(animal):\n",
    "    def speak(self):\n",
    "        return \"meow!!!!!\"\n",
    "\n",
    "#function using polymorphism\n",
    "def make_sound(animal):\n",
    "    return animal.speak()\n",
    "\n",
    "#creating instances of subclass\n",
    "c1 = cat()\n",
    "\n",
    "print(make_sound(c1))\n",
    "\n",
    "\n",
    "\n"
   ]
  }
 ],
 "metadata": {
  "kernelspec": {
   "display_name": "base",
   "language": "python",
   "name": "python3"
  },
  "language_info": {
   "codemirror_mode": {
    "name": "ipython",
    "version": 3
   },
   "file_extension": ".py",
   "mimetype": "text/x-python",
   "name": "python",
   "nbconvert_exporter": "python",
   "pygments_lexer": "ipython3",
   "version": "3.10.9"
  }
 },
 "nbformat": 4,
 "nbformat_minor": 2
}
