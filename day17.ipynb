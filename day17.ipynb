{
 "cells": [
  {
   "cell_type": "markdown",
   "metadata": {},
   "source": [
    "Arithmetic Operations"
   ]
  },
  {
   "cell_type": "code",
   "execution_count": 1,
   "metadata": {},
   "outputs": [
    {
     "name": "stdout",
     "output_type": "stream",
     "text": [
      "Addition:  15\n",
      "Sibtraction:  5\n",
      "Mulitplication:  50\n",
      "Division:  2\n"
     ]
    }
   ],
   "source": [
    "import sqlite3\n",
    "db = sqlite3.connect('DataScience.db')\n",
    "cursor = db.cursor()\n",
    "cursor.execute('''create table if not exists numbers (\n",
    "               id integer primary key,\n",
    "               num1 integer,\n",
    "               num2 integer\n",
    ")''')\n",
    "\n",
    "cursor.execute(\"insert into numbers (num1, num2) values (?, ?)\",(10,5))\n",
    "\n",
    "cursor.execute(\"select num1 + num2 from numbers\")\n",
    "print(\"Addition: \", cursor.fetchone()[0]) #[0] accesses the first element (i.e. at index 0)\n",
    "#Putting it all together, cursor.fetchone()[0] retrieves the value of the first column in the current row fetched by the cursor. \n",
    "\n",
    "cursor.execute(\"select num1 - num2 from numbers\")\n",
    "print('Sibtraction: ', cursor.fetchone()[0])\n",
    "\n",
    "cursor.execute(\"select num1 * num2 from numbers\")\n",
    "print('Mulitplication: ', cursor.fetchone()[0])\n",
    "\n",
    "cursor.execute(\"select num1/num2 from numbers\")\n",
    "print('Division: ', cursor.fetchone()[0])\n",
    "\n"
   ]
  },
  {
   "cell_type": "markdown",
   "metadata": {},
   "source": [
    "Logical Operaions"
   ]
  },
  {
   "cell_type": "code",
   "execution_count": 2,
   "metadata": {},
   "outputs": [
    {
     "data": {
      "text/plain": [
       "<sqlite3.Cursor at 0x284926d6140>"
      ]
     },
     "execution_count": 2,
     "metadata": {},
     "output_type": "execute_result"
    }
   ],
   "source": [
    "cursor.execute(\"insert into numbers (num1, num2) values (?, ?)\", (8,9))\n",
    "cursor.execute(\"insert into numbers (num1, num2) values (?, ?)\", (8, 15))\n",
    "cursor.execute(\"insert into numbers (num1, num2) values (?, ?)\", (25, 25))"
   ]
  },
  {
   "cell_type": "code",
   "execution_count": 3,
   "metadata": {},
   "outputs": [
    {
     "name": "stdout",
     "output_type": "stream",
     "text": [
      "id | num1 | num2\n",
      "1 | 10 | 5\n",
      "2 | 8 | 9\n",
      "3 | 8 | 15\n",
      "4 | 25 | 25\n"
     ]
    }
   ],
   "source": [
    "cursor.execute(\"select * from numbers\")\n",
    "rows = cursor.fetchall()\n",
    "print(\"id | num1 | num2\")\n",
    "for i in rows:\n",
    "    print(f\"{i[0]} | {i[1]} | {i[2]}\")"
   ]
  },
  {
   "cell_type": "code",
   "execution_count": 4,
   "metadata": {},
   "outputs": [
    {
     "name": "stdout",
     "output_type": "stream",
     "text": [
      "Logical AND:  [(1, 10, 5), (2, 8, 9)]\n"
     ]
    }
   ],
   "source": [
    "#LOGICAL AND\n",
    "cursor.execute(\"select * from numbers where num1 > 5 AND num2<10\")\n",
    "print(\"Logical AND: \", cursor.fetchall())\n",
    "#fetchall() is used here to retrieve all rows matching the given condition"
   ]
  },
  {
   "cell_type": "code",
   "execution_count": 5,
   "metadata": {},
   "outputs": [
    {
     "name": "stdout",
     "output_type": "stream",
     "text": [
      "[(4, 25, 25)]\n"
     ]
    }
   ],
   "source": [
    "#LOGICAL OR\n",
    "cursor.execute(\"select * from numbers where num1<8 or num2>15\")\n",
    "print(cursor.fetchall())"
   ]
  },
  {
   "cell_type": "code",
   "execution_count": 6,
   "metadata": {},
   "outputs": [
    {
     "name": "stdout",
     "output_type": "stream",
     "text": [
      "[(1, 10, 5), (2, 8, 9), (3, 8, 15)]\n"
     ]
    }
   ],
   "source": [
    "#LOGICAL NOT\n",
    "cursor.execute(\"select * from numbers where not (num1>10)\")\n",
    "print(cursor.fetchall())"
   ]
  }
 ],
 "metadata": {
  "kernelspec": {
   "display_name": "base",
   "language": "python",
   "name": "python3"
  },
  "language_info": {
   "codemirror_mode": {
    "name": "ipython",
    "version": 3
   },
   "file_extension": ".py",
   "mimetype": "text/x-python",
   "name": "python",
   "nbconvert_exporter": "python",
   "pygments_lexer": "ipython3",
   "version": "3.10.9"
  }
 },
 "nbformat": 4,
 "nbformat_minor": 2
}
