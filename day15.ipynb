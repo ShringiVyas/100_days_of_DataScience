{
 "cells": [
  {
   "cell_type": "markdown",
   "metadata": {},
   "source": [
    "#### ANOVA (Analysis of Variance)"
   ]
  },
  {
   "cell_type": "markdown",
   "metadata": {},
   "source": [
    "Anova is used to analyze differences among means of two or more groups.                                                 The General one-way ANOVA formula is:                                                          F = between-group varianve / within-group variance"
   ]
  },
  {
   "cell_type": "markdown",
   "metadata": {},
   "source": [
    "Where:\n",
    "F is the F-statistic, which follows an F-distribution.\n",
    "Between-group variance represents the variability between the group means.\n",
    "Within-group variance represents the variability within each group."
   ]
  },
  {
   "cell_type": "code",
   "execution_count": 5,
   "metadata": {},
   "outputs": [
    {
     "name": "stdout",
     "output_type": "stream",
     "text": [
      "F-statistic:  [ 119.26450218   49.16004009 1180.16118225  960.0071468 ]\n",
      "p-value:  [1.66966919e-31 4.49201713e-17 2.85677661e-91 4.16944584e-85]\n",
      "Reject the null hypothesis. There are significant differences among the means\n",
      "Reject the null hypothesis. There are significant differences among the means\n",
      "Reject the null hypothesis. There are significant differences among the means\n",
      "Reject the null hypothesis. There are significant differences among the means\n"
     ]
    }
   ],
   "source": [
    "from sklearn.datasets import load_iris\n",
    "from scipy.stats import f_oneway\n",
    "\n",
    "#loading dataset\n",
    "iris = load_iris()\n",
    "\n",
    "data = iris.data\n",
    "target = iris.target\n",
    "\n",
    "#extract data for each species\n",
    "setosa_data =  data[target == 0]\n",
    "versicolor_data = data[target == 1]\n",
    "virginica_data = data[target == 2]\n",
    "\n",
    "#implementing ANOVA\n",
    "f_statistic, p_value = f_oneway(setosa_data, versicolor_data, virginica_data)\n",
    "#f_oneway performs analysis of variance test to compare means of samples/ groups\n",
    "#f-statistic: This is a ratio of the variance between groups to the variance within groups.\n",
    "#p-value: The probability that the null hypothesis is true (i.e., there are no differences between the groups). If p < alpha\n",
    "#output\n",
    "print(\"F-statistic: \", f_statistic)\n",
    "print(\"p-value: \", p_value)\n",
    "\n",
    "#interpret results\n",
    "alpha = 0.05 #alha: significance level\n",
    "for i in p_value:\n",
    "    if i <alpha:\n",
    "        print(\"Reject the null hypothesis. There are significant differences among the means\")\n",
    "    else:\n",
    "        print(\"Fail to reject the null hypothesis. There are no significant differencesamon the means\")\n"
   ]
  },
  {
   "cell_type": "code",
   "execution_count": 6,
   "metadata": {},
   "outputs": [],
   "source": [
    "\n",
    "# The above output computes:\n",
    "# Comparison 1: Setosa vs. Versicolor\n",
    "# Comparison 2: Setosa vs. Virginica\n",
    "# Comparison 3: Versicolor vs. Virginica\n",
    "# Comparison 4: Overall comparison across all three groups (total variation across groups vs. variation within groups)"
   ]
  },
  {
   "cell_type": "markdown",
   "metadata": {},
   "source": [
    "#### HYPOTHESIS"
   ]
  },
  {
   "cell_type": "code",
   "execution_count": 8,
   "metadata": {},
   "outputs": [
    {
     "name": "stdout",
     "output_type": "stream",
     "text": [
      "Reject the null hypothesis. There are significant differences among the means\n",
      "Reject the null hypothesis. There are significant differences among the means\n",
      "Reject the null hypothesis. There are significant differences among the means\n",
      "Reject the null hypothesis. There are significant differences among the means\n"
     ]
    }
   ],
   "source": [
    "#Null Hypothesis (H0): means of all groups are equal\n",
    "#Alternative Hypothesis (H1): atleast one group's mean is different from others\n",
    "\n",
    "#anova hypothesis:\n",
    "F_statistic:  [ 119.26450218, 49.16004009, 1180.16118225,  960.0071468 ]\n",
    "p_value:  [1.66966919e-31, 4.49201713e-17, 2.85677661e-91, 4.16944584e-85]\n",
    "alpha = 0.05 #alha: significance level\n",
    "for i in p_value:\n",
    "    if i <alpha:\n",
    "        print(\"Reject the null hypothesis. There are significant differences among the means\")\n",
    "    else:\n",
    "        print(\"Fail to reject the null hypothesis. There are no significant differencesamon the means\")\n"
   ]
  },
  {
   "cell_type": "markdown",
   "metadata": {},
   "source": [
    "T-Test Hypothesis"
   ]
  },
  {
   "cell_type": "code",
   "execution_count": 11,
   "metadata": {},
   "outputs": [
    {
     "name": "stdout",
     "output_type": "stream",
     "text": [
      "t-statistic:  -10.52098626754911\n",
      "p-value:  8.985235037487079e-18\n",
      "Reject the null hypothesis. There is a significant difference in sepal lengths between Setosa and Versicolor species.\n"
     ]
    }
   ],
   "source": [
    "#T-test: compares the means of a single feature across different species\n",
    "#consider comparing sepal lengths of setosa and versicolor\n",
    "#performing two-sample independent t-test\n",
    "\n",
    "from scipy.stats import ttest_ind\n",
    "from sklearn.datasets import load_iris\n",
    "\n",
    "#loading the dataset\n",
    "iris = load_iris()\n",
    "data = iris.data\n",
    "target = iris.target\n",
    "feature_names = iris.feature_names\n",
    "\n",
    "#extract sepal lengths for setosa and versicolor species\n",
    "setosa_length = data[target == 0, feature_names.index('sepal length (cm)')]\n",
    "versicolor_length = data[target == 1, feature_names.index('sepal length (cm)')]\n",
    "\n",
    "#two-sample t-test\n",
    "t_statistic, p_value = ttest_ind(setosa_length, versicolor_length)\n",
    "\n",
    "print(\"t-statistic: \", t_statistic)\n",
    "print(\"p-value: \", p_value)\n",
    "\n",
    "alpha = 0.05\n",
    "if p_value < alpha:\n",
    "    print(\"Reject the null hypothesis. There is a significant difference in sepal lengths between Setosa and Versicolor species.\")\n",
    "else:\n",
    "    print(\"Fail to reject the null hypothesis. There is no significant difference in sepal lengths between Setosa and Versicolor species.\")\n",
    "    \n",
    "\n"
   ]
  }
 ],
 "metadata": {
  "kernelspec": {
   "display_name": "base",
   "language": "python",
   "name": "python3"
  },
  "language_info": {
   "codemirror_mode": {
    "name": "ipython",
    "version": 3
   },
   "file_extension": ".py",
   "mimetype": "text/x-python",
   "name": "python",
   "nbconvert_exporter": "python",
   "pygments_lexer": "ipython3",
   "version": "3.10.9"
  }
 },
 "nbformat": 4,
 "nbformat_minor": 2
}
