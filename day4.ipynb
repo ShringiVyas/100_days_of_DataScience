{
 "cells": [
  {
   "cell_type": "markdown",
   "metadata": {},
   "source": [
    "FILE HANDLING AND EXCEPTIONAL HANDLING\n"
   ]
  },
  {
   "cell_type": "markdown",
   "metadata": {},
   "source": [
    "EXCEPTIONAL"
   ]
  },
  {
   "cell_type": "code",
   "execution_count": 2,
   "metadata": {},
   "outputs": [
    {
     "name": "stdout",
     "output_type": "stream",
     "text": [
      "Error: cannot add an integer and a string\n"
     ]
    }
   ],
   "source": [
    "# 1. Type Error\n",
    "x = 5\n",
    "y = \"hello\"\n",
    "try:\n",
    "    z = x + y\n",
    "except TypeError:\n",
    "    print(\"Error: cannot add an integer and a string\")\n",
    "# print('After operation')\n"
   ]
  },
  {
   "cell_type": "code",
   "execution_count": 6,
   "metadata": {},
   "outputs": [
    {
     "name": "stdout",
     "output_type": "stream",
     "text": [
      "Second element = 2\n",
      "An error occurred\n"
     ]
    },
    {
     "name": "stderr",
     "output_type": "stream",
     "text": [
      "<>:8: SyntaxWarning: 'str' object is not callable; perhaps you missed a comma?\n",
      "<>:8: SyntaxWarning: 'str' object is not callable; perhaps you missed a comma?\n",
      "C:\\Users\\vineet\\AppData\\Local\\Temp\\ipykernel_10384\\1933731569.py:8: SyntaxWarning: 'str' object is not callable; perhaps you missed a comma?\n",
      "  print(\"Fourth element =  %d\" (a[3])) #throws error since there are only 3 elements\n"
     ]
    }
   ],
   "source": [
    "# 2. Index Error: list index out of range\n",
    "# Python code to handle simple runtime error\n",
    "\n",
    "a = [1, 2, 3]\n",
    "try:\n",
    "    print(\"Second element = %d\" %(a[1]))\n",
    "\n",
    "    print(\"Fourth element =  %d\" (a[3])) #throws error since there are only 3 elements\n",
    "except:\n",
    "    print(\"An error occurred\")\n"
   ]
  },
  {
   "cell_type": "code",
   "execution_count": 25,
   "metadata": {},
   "outputs": [
    {
     "name": "stdout",
     "output_type": "stream",
     "text": [
      "Second argument to a division or modulo operation was zero.\n",
      "0.8\n",
      "[1, 2, 3]\n"
     ]
    }
   ],
   "source": [
    "#catching specific exception\n",
    "def func(n):\n",
    "    try:\n",
    "        d = 4 / n\n",
    "        print(d)\n",
    "        print(a) #this will raise error if 'a' is not defined\n",
    "    except ZeroDivisionError:\n",
    "        print(ZeroDivisionError.__doc__)\n",
    "    except NameError:\n",
    "        print('Name not defined in the scope')\n",
    "func(0)\n",
    "func(5.0)\n",
    "\n",
    "\n",
    "\n"
   ]
  },
  {
   "cell_type": "code",
   "execution_count": 29,
   "metadata": {},
   "outputs": [
    {
     "name": "stdout",
     "output_type": "stream",
     "text": [
      "Second argument to a division or modulo operation was zero.\n",
      "operation completed\n"
     ]
    }
   ],
   "source": [
    "#'finally' keyword with try-except\n",
    "try:\n",
    "    d = 5/0\n",
    "except ZeroDivisionError:\n",
    "    print(ZeroDivisionError.__doc__)\n",
    "finally:\n",
    "    print('operation completed')"
   ]
  },
  {
   "cell_type": "code",
   "execution_count": 33,
   "metadata": {},
   "outputs": [
    {
     "name": "stdout",
     "output_type": "stream",
     "text": [
      "Cannot divide by 0\n",
      "End\n",
      "0.5\n",
      "End\n"
     ]
    }
   ],
   "source": [
    "#Try with else block\n",
    "def func(n):\n",
    "    try:\n",
    "        c = 4/n\n",
    "    except ZeroDivisionError:\n",
    "        print('Cannot divide by 0')\n",
    "    else:\n",
    "        print(c)\n",
    "    finally:\n",
    "        print('End')\n",
    "func(0)\n",
    "func(8)\n"
   ]
  },
  {
   "cell_type": "markdown",
   "metadata": {},
   "source": [
    "User Defined Exception"
   ]
  },
  {
   "cell_type": "code",
   "execution_count": 37,
   "metadata": {},
   "outputs": [
    {
     "name": "stdout",
     "output_type": "stream",
     "text": [
      "Hello, abcd\n",
      "abc not having access\n"
     ]
    },
    {
     "ename": "NameError",
     "evalue": "('abc', 'not having access')",
     "output_type": "error",
     "traceback": [
      "\u001b[1;31m---------------------------------------------------------------------------\u001b[0m",
      "\u001b[1;31mNameError\u001b[0m                                 Traceback (most recent call last)",
      "Cell \u001b[1;32mIn[37], line 11\u001b[0m\n\u001b[0;32m      9\u001b[0m         \u001b[38;5;28;01mraise\u001b[39;00m\n\u001b[0;32m     10\u001b[0m func(\u001b[38;5;124m'\u001b[39m\u001b[38;5;124mabcd\u001b[39m\u001b[38;5;124m'\u001b[39m)\n\u001b[1;32m---> 11\u001b[0m \u001b[43mfunc\u001b[49m\u001b[43m(\u001b[49m\u001b[38;5;124;43m'\u001b[39;49m\u001b[38;5;124;43mabc\u001b[39;49m\u001b[38;5;124;43m'\u001b[39;49m\u001b[43m)\u001b[49m\n",
      "Cell \u001b[1;32mIn[37], line 6\u001b[0m, in \u001b[0;36mfunc\u001b[1;34m(name)\u001b[0m\n\u001b[0;32m      4\u001b[0m         \u001b[38;5;28mprint\u001b[39m(\u001b[38;5;124m'\u001b[39m\u001b[38;5;124mHello,\u001b[39m\u001b[38;5;124m'\u001b[39m, name)\n\u001b[0;32m      5\u001b[0m     \u001b[38;5;28;01melse\u001b[39;00m:\n\u001b[1;32m----> 6\u001b[0m         \u001b[38;5;28;01mraise\u001b[39;00m \u001b[38;5;167;01mNameError\u001b[39;00m (name, \u001b[38;5;124m'\u001b[39m\u001b[38;5;124mnot having access\u001b[39m\u001b[38;5;124m'\u001b[39m)\n\u001b[0;32m      7\u001b[0m \u001b[38;5;28;01mexcept\u001b[39;00m \u001b[38;5;167;01mNameError\u001b[39;00m:\n\u001b[0;32m      8\u001b[0m     \u001b[38;5;28mprint\u001b[39m(name, \u001b[38;5;124m'\u001b[39m\u001b[38;5;124mnot having access\u001b[39m\u001b[38;5;124m'\u001b[39m)\n",
      "\u001b[1;31mNameError\u001b[0m: ('abc', 'not having access')"
     ]
    }
   ],
   "source": [
    "def func(name):\n",
    "    try:\n",
    "        if name == 'abcd':\n",
    "            print('Hello,', name)\n",
    "        else:\n",
    "            raise NameError (name, 'not having access')\n",
    "    except NameError:\n",
    "        print(name, 'not having access')\n",
    "        raise\n",
    "func('abcd')\n",
    "func('abc')"
   ]
  },
  {
   "cell_type": "code",
   "execution_count": 43,
   "metadata": {},
   "outputs": [
    {
     "name": "stdout",
     "output_type": "stream",
     "text": [
      "Hello, abcd\n",
      "End\n",
      "None\n",
      "End\n"
     ]
    },
    {
     "ename": "NotAuthorizedError",
     "evalue": "'pqr, is not authorized'",
     "output_type": "error",
     "traceback": [
      "\u001b[1;31m---------------------------------------------------------------------------\u001b[0m",
      "\u001b[1;31mNotAuthorizedError\u001b[0m                        Traceback (most recent call last)",
      "Cell \u001b[1;32mIn[43], line 22\u001b[0m\n\u001b[0;32m     20\u001b[0m         \u001b[38;5;28mprint\u001b[39m(\u001b[38;5;124m'\u001b[39m\u001b[38;5;124mEnd\u001b[39m\u001b[38;5;124m'\u001b[39m)\n\u001b[0;32m     21\u001b[0m wish(\u001b[38;5;124m'\u001b[39m\u001b[38;5;124mabcd\u001b[39m\u001b[38;5;124m'\u001b[39m)\n\u001b[1;32m---> 22\u001b[0m \u001b[43mwish\u001b[49m\u001b[43m(\u001b[49m\u001b[38;5;124;43m'\u001b[39;49m\u001b[38;5;124;43mpqr\u001b[39;49m\u001b[38;5;124;43m'\u001b[39;49m\u001b[43m)\u001b[49m\n",
      "Cell \u001b[1;32mIn[43], line 15\u001b[0m, in \u001b[0;36mwish\u001b[1;34m(name)\u001b[0m\n\u001b[0;32m     13\u001b[0m         \u001b[38;5;28mprint\u001b[39m(\u001b[38;5;124m'\u001b[39m\u001b[38;5;124mHello,\u001b[39m\u001b[38;5;124m'\u001b[39m, name)\n\u001b[0;32m     14\u001b[0m     \u001b[38;5;28;01melse\u001b[39;00m:\n\u001b[1;32m---> 15\u001b[0m         \u001b[38;5;28;01mraise\u001b[39;00m NotAuthorizedError(name)\n\u001b[0;32m     16\u001b[0m \u001b[38;5;28;01mexcept\u001b[39;00m NotAuthorizedError:\n\u001b[0;32m     17\u001b[0m     \u001b[38;5;28mprint\u001b[39m(NotAuthorizedError\u001b[38;5;241m.\u001b[39m\u001b[38;5;18m__doc__\u001b[39m)\n",
      "\u001b[1;31mNotAuthorizedError\u001b[0m: 'pqr, is not authorized'"
     ]
    }
   ],
   "source": [
    "#User-defined exception\n",
    "class NotAuthorizedError(Exception):\n",
    "    #user is not authorized\n",
    "    def __init__(self, value, *args: object) -> None:\n",
    "        super().__init__(*args)\n",
    "        self.value = value + ', is not authorized'\n",
    "    def __str__(self):\n",
    "        return (repr(self.value))\n",
    "\n",
    "def wish(name):\n",
    "    try:\n",
    "        if name == 'abcd' or name == 'xyz':\n",
    "            print('Hello,', name)\n",
    "        else:\n",
    "            raise NotAuthorizedError(name)\n",
    "    except NotAuthorizedError:\n",
    "        print(NotAuthorizedError.__doc__)\n",
    "        raise\n",
    "    finally:\n",
    "        print('End')\n",
    "wish('abcd')\n",
    "wish('pqr')"
   ]
  },
  {
   "cell_type": "markdown",
   "metadata": {},
   "source": [
    "Error VS Exception"
   ]
  },
  {
   "cell_type": "code",
   "execution_count": 45,
   "metadata": {},
   "outputs": [
    {
     "ename": "SyntaxError",
     "evalue": "invalid syntax (3272641069.py, line 2)",
     "output_type": "error",
     "traceback": [
      "\u001b[1;36m  Cell \u001b[1;32mIn[45], line 2\u001b[1;36m\u001b[0m\n\u001b[1;33m    = 10\u001b[0m\n\u001b[1;37m    ^\u001b[0m\n\u001b[1;31mSyntaxError\u001b[0m\u001b[1;31m:\u001b[0m invalid syntax\n"
     ]
    }
   ],
   "source": [
    "try:\n",
    "    = 10\n",
    "except SyntaxError:\n",
    "    print(SyntaxError.__doc__)\n",
    "else:\n",
    "    print('Nothing')"
   ]
  }
 ],
 "metadata": {
  "kernelspec": {
   "display_name": "base",
   "language": "python",
   "name": "python3"
  },
  "language_info": {
   "codemirror_mode": {
    "name": "ipython",
    "version": 3
   },
   "file_extension": ".py",
   "mimetype": "text/x-python",
   "name": "python",
   "nbconvert_exporter": "python",
   "pygments_lexer": "ipython3",
   "version": "3.10.9"
  }
 },
 "nbformat": 4,
 "nbformat_minor": 2
}
