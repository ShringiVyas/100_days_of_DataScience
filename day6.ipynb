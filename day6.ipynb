{
 "cells": [
  {
   "cell_type": "markdown",
   "metadata": {},
   "source": [
    "Class"
   ]
  },
  {
   "cell_type": "code",
   "execution_count": 1,
   "metadata": {},
   "outputs": [
    {
     "name": "stdout",
     "output_type": "stream",
     "text": [
      "1\n",
      "abcd\n"
     ]
    }
   ],
   "source": [
    "#instantiating a class\n",
    "class employee:\n",
    "    def __init__(self, id:int, name: str) -> None:\n",
    "        self.id = id\n",
    "        self.name = name\n",
    "    def display(self):\n",
    "        print(self.id, self.name)\n",
    "emp1 = employee(1, 'abcd')\n",
    "print(emp1.id)\n",
    "print(emp1.name)"
   ]
  },
  {
   "cell_type": "code",
   "execution_count": 3,
   "metadata": {},
   "outputs": [
    {
     "name": "stdout",
     "output_type": "stream",
     "text": [
      "1 abcd\n"
     ]
    }
   ],
   "source": [
    "#constructor\n",
    "class account:\n",
    "    def __init__(self, acc: int, name: str) -> None:\n",
    "        self.acc = acc\n",
    "        self.name = name\n",
    "    def display(self) -> None:\n",
    "        print(self.acc, self.name)\n",
    "a1 = account(1, 'abcd')\n",
    "a1.display()"
   ]
  },
  {
   "cell_type": "code",
   "execution_count": 19,
   "metadata": {},
   "outputs": [
    {
     "name": "stdout",
     "output_type": "stream",
     "text": [
      "acc = 1, name = abcd, address=address1\n",
      "acc = 2, name = None, address=None\n",
      "acc = 3, name = None, address=xyz\n",
      "acc = 4, name = pqrs, address=None\n"
     ]
    }
   ],
   "source": [
    "#constructor overloading\n",
    "class employee:\n",
    "    def __init__(self, acc:int, name = None, address = None) -> None:\n",
    "        if (name == None):\n",
    "            self.acc = acc\n",
    "            self.name = None\n",
    "            self.address = address\n",
    "        elif (address == None):\n",
    "            self.acc = acc\n",
    "            self.name = name\n",
    "            self.address = None\n",
    "        elif (name == None and address == None):\n",
    "            self.acc = acc\n",
    "            self.name = None\n",
    "            self.address =  None\n",
    "        else:\n",
    "            self.acc = acc\n",
    "            self.name = name\n",
    "            self.address = address\n",
    "    def __str__(self) -> str:\n",
    "        return f'acc = {self.acc}, name = {self.name}, address={self.address}'\n",
    "emp1 = employee(1, 'abcd', 'address1')\n",
    "print(emp1)\n",
    "\n",
    "emp2 = employee(2)\n",
    "print(emp2)\n",
    "\n",
    "emp3 = employee( 3, address='xyz')\n",
    "print(emp3)\n",
    "\n",
    "emp4 = employee(4, name='pqrs')\n",
    "print(emp4)"
   ]
  },
  {
   "cell_type": "code",
   "execution_count": 20,
   "metadata": {},
   "outputs": [
    {
     "name": "stdout",
     "output_type": "stream",
     "text": [
      "object deleted\n"
     ]
    }
   ],
   "source": [
    "#destructor\n",
    "class employee:\n",
    "    def __init__(self, name:str) -> None:\n",
    "        self.name = name\n",
    "    def __del__(self):\n",
    "        print('object deleted')\n",
    "emp1 = employee('abcd')\n",
    "del emp1\n",
    "#here, the destructor is automatically called when the object is deleted\n"
   ]
  },
  {
   "cell_type": "code",
   "execution_count": 27,
   "metadata": {},
   "outputs": [
    {
     "name": "stdout",
     "output_type": "stream",
     "text": [
      "abcd object deleted\n",
      "abcd\n"
     ]
    }
   ],
   "source": [
    "#calling the destructor when the program ends\n",
    "class employee:\n",
    "    def __init__(self, id: str, name:str) ->None:\n",
    "        self.id = id\n",
    "        self.name = name\n",
    "    def __del__(self):\n",
    "\n",
    "        print(self.name, 'object deleted')\n",
    "emp1 = employee( 1,'abcd')\n",
    "print(emp1.name)"
   ]
  },
  {
   "cell_type": "code",
   "execution_count": 1,
   "metadata": {},
   "outputs": [
    {
     "name": "stdout",
     "output_type": "stream",
     "text": [
      "deleted\n"
     ]
    },
    {
     "ename": "TypeError",
     "evalue": "B.__init__() takes 1 positional argument but 2 were given",
     "output_type": "error",
     "traceback": [
      "\u001b[1;31m---------------------------------------------------------------------------\u001b[0m",
      "\u001b[1;31mTypeError\u001b[0m                                 Traceback (most recent call last)",
      "Cell \u001b[1;32mIn[1], line 10\u001b[0m\n\u001b[0;32m      8\u001b[0m     \u001b[38;5;28;01mdef\u001b[39;00m \u001b[38;5;21m__del__\u001b[39m (\u001b[38;5;28mself\u001b[39m) \u001b[38;5;241m-\u001b[39m\u001b[38;5;241m>\u001b[39m \u001b[38;5;28;01mNone\u001b[39;00m:\n\u001b[0;32m      9\u001b[0m         \u001b[38;5;28mprint\u001b[39m(\u001b[38;5;124m'\u001b[39m\u001b[38;5;124mdeleted\u001b[39m\u001b[38;5;124m'\u001b[39m)\n\u001b[1;32m---> 10\u001b[0m c \u001b[38;5;241m=\u001b[39m \u001b[43mB\u001b[49m\u001b[43m(\u001b[49m\u001b[43m)\u001b[49m\n",
      "Cell \u001b[1;32mIn[1], line 7\u001b[0m, in \u001b[0;36mB.__init__\u001b[1;34m(self)\u001b[0m\n\u001b[0;32m      6\u001b[0m \u001b[38;5;28;01mdef\u001b[39;00m \u001b[38;5;21m__init__\u001b[39m (\u001b[38;5;28mself\u001b[39m) \u001b[38;5;241m-\u001b[39m\u001b[38;5;241m>\u001b[39m \u001b[38;5;28;01mNone\u001b[39;00m:\n\u001b[1;32m----> 7\u001b[0m     \u001b[38;5;28mself\u001b[39m\u001b[38;5;241m.\u001b[39mb \u001b[38;5;241m=\u001b[39m \u001b[43mB\u001b[49m\u001b[43m(\u001b[49m\u001b[38;5;28;43mself\u001b[39;49m\u001b[43m)\u001b[49m\n",
      "\u001b[1;31mTypeError\u001b[0m: B.__init__() takes 1 positional argument but 2 were given"
     ]
    }
   ],
   "source": [
    "#calling destructor\n",
    "class A:\n",
    "    def __init__ (self, a) -> None:\n",
    "        self.a = a\n",
    "class B:\n",
    "    def __init__ (self) -> None:\n",
    "        self.b = B(self)\n",
    "    def __del__ (self) -> None:\n",
    "        print('deleted')\n",
    "c = B()"
   ]
  },
  {
   "cell_type": "markdown",
   "metadata": {},
   "source": [
    "Built-in class attributes, methods and functions"
   ]
  },
  {
   "cell_type": "code",
   "execution_count": 11,
   "metadata": {},
   "outputs": [
    {
     "name": "stdout",
     "output_type": "stream",
     "text": [
      "object created\n",
      "object created\n",
      "(<class 'object'>,)\n",
      "{'__module__': '__main__', '__init__': <function Account.__init__ at 0x000002223BD6E3B0>, '__dict__': <attribute '__dict__' of 'Account' objects>, '__weakref__': <attribute '__weakref__' of 'Account' objects>, '__doc__': None}\n",
      "None\n",
      "__main__\n",
      "Account\n",
      "{}\n",
      "None\n"
     ]
    },
    {
     "ename": "AttributeError",
     "evalue": "'Account' object has no attribute '__getstate__'",
     "output_type": "error",
     "traceback": [
      "\u001b[1;31m---------------------------------------------------------------------------\u001b[0m",
      "\u001b[1;31mAttributeError\u001b[0m                            Traceback (most recent call last)",
      "Cell \u001b[1;32mIn[11], line 17\u001b[0m\n\u001b[0;32m     14\u001b[0m \u001b[38;5;28mprint\u001b[39m(Account\u001b[38;5;241m.\u001b[39m\u001b[38;5;18m__annotations__\u001b[39m) \u001b[38;5;66;03m#prints annotations (arbitrary metadata) of the 'Account' class\u001b[39;00m\n\u001b[0;32m     16\u001b[0m \u001b[38;5;28mprint\u001b[39m(acc1\u001b[38;5;241m.\u001b[39m\u001b[38;5;21m__setattr__\u001b[39m(\u001b[38;5;124m'\u001b[39m\u001b[38;5;124maddress\u001b[39m\u001b[38;5;124m'\u001b[39m, \u001b[38;5;124m'\u001b[39m\u001b[38;5;124mnew_address\u001b[39m\u001b[38;5;124m'\u001b[39m)) \u001b[38;5;66;03m#it sets attribute 'address' to 'new_address'\u001b[39;00m\n\u001b[1;32m---> 17\u001b[0m \u001b[38;5;28mprint\u001b[39m(\u001b[43macc2\u001b[49m\u001b[38;5;241;43m.\u001b[39;49m\u001b[43m__getstate__\u001b[49m())\n",
      "\u001b[1;31mAttributeError\u001b[0m: 'Account' object has no attribute '__getstate__'"
     ]
    }
   ],
   "source": [
    "#built-in class attributes\n",
    "class Account:\n",
    "    def __init__(self, acc:int, name:str) -> None:\n",
    "        self.acc = acc\n",
    "        self.name = name\n",
    "        print('object created')\n",
    "acc1 = Account(1, 'abcd')\n",
    "acc2 = Account(2, 'xyzs')\n",
    "print(Account.__bases__) #prints the base classes of account, if not such classes then prints an empty tuple()\n",
    "print(Account.__dict__) #shows all the methods and attributes of the class\n",
    "print(Account.__doc__) #prints the docstring of 'Account' class\n",
    "print(Account.__module__) #prints the name of the module in which 'Account' class is defined\n",
    "print(Account.__name__) #prints the name of the class i.e. 'Account'\n",
    "print(Account.__annotations__) #prints annotations (arbitrary metadata) of the 'Account' class\n",
    "\n",
    "print(acc1.__setattr__('address', 'new_address')) #it sets attribute 'address' to 'new_address'\n",
    "print(acc2.__getstate__()) #prints the state of acc1"
   ]
  },
  {
   "cell_type": "code",
   "execution_count": 13,
   "metadata": {},
   "outputs": [],
   "source": [
    "class Account:\n",
    "    def __init__(self, acc:int, name:str) -> None:\n",
    "        self.acc = acc\n",
    "        self.name = name\n",
    "        print('object created')\n",
    "    def __str__(self) -> str :\n",
    "        return f'{self.acc} : {self.name}'\n"
   ]
  },
  {
   "cell_type": "markdown",
   "metadata": {},
   "source": [
    "Class VS Static variables and methods\n"
   ]
  },
  {
   "cell_type": "code",
   "execution_count": 30,
   "metadata": {},
   "outputs": [
    {
     "name": "stdout",
     "output_type": "stream",
     "text": [
      "instance called\n",
      "instance variable:  10\n",
      "class variable:  0\n",
      "static method\n",
      "class variable:  0\n",
      "instance called\n",
      "instance variable:  10\n",
      "class variable:  100\n",
      "static method\n",
      "class variable:  100\n"
     ]
    }
   ],
   "source": [
    "#class and static variables\n",
    "class Myclass:\n",
    "    class_variable = 0\n",
    "    def __init__(self, instance_variable):\n",
    "        self.instance_variable = instance_variable\n",
    "    def instance_method(self):\n",
    "        print(\"instance called\")\n",
    "        print(\"instance variable: \", self.instance_variable)\n",
    "        print(\"class variable: \", Myclass.class_variable)\n",
    "    def static_method():\n",
    "        print('static method')\n",
    "        print('class variable: ', Myclass.class_variable)\n",
    "\n",
    "obj1 = Myclass(10)\n",
    "obj1.instance_method()\n",
    "Myclass.static_method()\n",
    "\n",
    "#modifying class variable\n",
    "Myclass.class_variable = 100\n",
    "obj1.instance_method()\n",
    "Myclass.static_method()\n"
   ]
  },
  {
   "cell_type": "code",
   "execution_count": 5,
   "metadata": {},
   "outputs": [
    {
     "name": "stdout",
     "output_type": "stream",
     "text": [
      "10\n",
      "10\n"
     ]
    }
   ],
   "source": [
    "#class and static method\n",
    "class my_class:\n",
    "    class_variable = 10\n",
    "    @classmethod #class methods are defined using @classmethod decorator. They can access the class variable but not instance variables.\n",
    "    def class_method(cls):\n",
    "        print(cls.class_variable)\n",
    "my_class.class_method()\n",
    "my_instance = my_class()\n",
    "my_instance.class_method()\n",
    "    "
   ]
  },
  {
   "cell_type": "code",
   "execution_count": 7,
   "metadata": {},
   "outputs": [
    {
     "name": "stdout",
     "output_type": "stream",
     "text": [
      "static method\n"
     ]
    }
   ],
   "source": [
    "#static methods\n",
    "class my_class:\n",
    "    \n",
    "    @staticmethod \n",
    "    def static_method():\n",
    "        print(\"static method\")\n",
    "my_class.static_method()"
   ]
  }
 ],
 "metadata": {
  "kernelspec": {
   "display_name": "base",
   "language": "python",
   "name": "python3"
  },
  "language_info": {
   "codemirror_mode": {
    "name": "ipython",
    "version": 3
   },
   "file_extension": ".py",
   "mimetype": "text/x-python",
   "name": "python",
   "nbconvert_exporter": "python",
   "pygments_lexer": "ipython3",
   "version": "3.10.9"
  }
 },
 "nbformat": 4,
 "nbformat_minor": 2
}
