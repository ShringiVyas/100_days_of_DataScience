{
 "cells": [
  {
   "cell_type": "markdown",
   "metadata": {},
   "source": [
    "PROBABILITY AND STATISTICS"
   ]
  },
  {
   "cell_type": "markdown",
   "metadata": {},
   "source": [
    "Probability Basics"
   ]
  },
  {
   "cell_type": "code",
   "execution_count": 17,
   "metadata": {},
   "outputs": [
    {
     "name": "stdout",
     "output_type": "stream",
     "text": [
      "4\n",
      "0.0\n",
      "0.4916\n",
      "0.24809685\n"
     ]
    }
   ],
   "source": [
    "import random\n",
    "\n",
    "#P(event)\n",
    "def P_event(fav_outcomes, total_outcomes):\n",
    "    return fav_outcomes / total_outcomes\n",
    "\n",
    "#toss a coin\n",
    "def coin_toss():\n",
    "    return random.choice(['H', 'T'])\n",
    "\n",
    "#roll a dice\n",
    "def dice_roll():\n",
    "    return random.randint(1, 6)\n",
    "print(dice_roll())\n",
    "\n",
    "#rolling a speific number on a dice\n",
    "def dice_rollno(target_number, num_trials):\n",
    "    fav_outcomes = 0\n",
    "    for _ in range(num_trials):\n",
    "        if dice_roll == target_number:\n",
    "            fav_outcomes += 1\n",
    "    return P_event(fav_outcomes, num_trials)\n",
    "print(dice_rollno(3, 10000))\n",
    "\n",
    "#probability of getting geads in a fair coin toss\n",
    "def coin_toss_head(num_trials):\n",
    "    fav_outcomes = 0\n",
    "    for _ in range(num_trials):\n",
    "        if coin_toss() == 'H':\n",
    "            fav_outcomes += 1\n",
    "    return P_event(fav_outcomes, num_trials)\n",
    "print(coin_toss_head(10000))\n",
    "\n",
    "#probability of getting heads in 2 consecutive coin tosses\n",
    "def coin_toss_2(num_trials):\n",
    "    p_head1 = coin_toss_head(num_trials)\n",
    "    p_head2 = coin_toss_head(num_trials)\n",
    "    p_both_heads = p_head1 * p_head2\n",
    "    return p_both_heads\n",
    "print(coin_toss_2(10000))\n",
    "\n"
   ]
  },
  {
   "cell_type": "markdown",
   "metadata": {},
   "source": [
    "Conditional Probability: P(A|B) = P(A∩B) / P(B)"
   ]
  },
  {
   "cell_type": "code",
   "execution_count": 18,
   "metadata": {},
   "outputs": [
    {
     "name": "stdout",
     "output_type": "stream",
     "text": [
      "Conditional probability of the target species being 0 with petal width 3 is 0.0\n"
     ]
    }
   ],
   "source": [
    "import numpy as np\n",
    "from sklearn.datasets import load_iris\n",
    "\n",
    "#defining conditional probability (no library for conditional probability)\n",
    "def conditional_prob_func(feature_index, feature_value, target_value):\n",
    "    count_feature_value = np.sum(data[:, feature_index] == feature_value)\n",
    "    count_feature_target = np.sum((data[:, feature_index] == feature_value) & (target == target_value))\n",
    "\n",
    "    #calculating conditional prob\n",
    "    conditional_probability = count_feature_target / count_feature_value\n",
    "\n",
    "    return conditional_probability\n",
    "\n",
    "#loading the iris data\n",
    "#P(Iris setosa| petal width=1.5) = P(Iris width ∩ petal width=1.5) / P(petal width=1.5)\n",
    "iris = load_iris()\n",
    "data = iris.data\n",
    "target = iris.target\n",
    "\n",
    "#test data\n",
    "feature_index = 3 #petal width\n",
    "feature_value = 1.5\n",
    "target_value = 0 #iris setosa\n",
    "\n",
    "iris_prob = conditional_prob_func(feature_index, feature_value, target_value)\n",
    "\n",
    "print(f\"Conditional probability of the target species being {target_value} with petal width {feature_index} is {iris_prob}\")\n"
   ]
  },
  {
   "cell_type": "code",
   "execution_count": null,
   "metadata": {},
   "outputs": [],
   "source": []
  }
 ],
 "metadata": {
  "kernelspec": {
   "display_name": "base",
   "language": "python",
   "name": "python3"
  },
  "language_info": {
   "codemirror_mode": {
    "name": "ipython",
    "version": 3
   },
   "file_extension": ".py",
   "mimetype": "text/x-python",
   "name": "python",
   "nbconvert_exporter": "python",
   "pygments_lexer": "ipython3",
   "version": "3.10.9"
  }
 },
 "nbformat": 4,
 "nbformat_minor": 2
}
