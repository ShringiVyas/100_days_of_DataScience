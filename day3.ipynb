{
 "cells": [
  {
   "cell_type": "markdown",
   "metadata": {},
   "source": [
    "FUNCTIONS"
   ]
  },
  {
   "cell_type": "code",
   "execution_count": 1,
   "metadata": {},
   "outputs": [
    {
     "name": "stdout",
     "output_type": "stream",
     "text": [
      "8\n"
     ]
    }
   ],
   "source": [
    "#Regular functions\n",
    "def add(a, b):\n",
    "    return a+b\n",
    "print(add(3,5))"
   ]
  },
  {
   "cell_type": "code",
   "execution_count": 23,
   "metadata": {},
   "outputs": [
    {
     "name": "stdout",
     "output_type": "stream",
     "text": [
      "15\n",
      "100\n",
      "20\n",
      "True\n",
      "False\n"
     ]
    }
   ],
   "source": [
    "#Lambda Function\n",
    "multiply = lambda x, y: x*y\n",
    "print(multiply(3, 5))\n",
    "\n",
    "sqr = lambda x: x**2\n",
    "print(sqr(10))\n",
    "\n",
    "adds = lambda x: x+x\n",
    "print(adds(10))\n",
    "\n",
    "even = lambda x: x%2 == 0\n",
    "print(even(10))\n",
    "print(even(5))"
   ]
  },
  {
   "cell_type": "code",
   "execution_count": 4,
   "metadata": {},
   "outputs": [
    {
     "name": "stdout",
     "output_type": "stream",
     "text": [
      "0\n",
      "2\n",
      "4\n",
      "6\n",
      "8\n"
     ]
    }
   ],
   "source": [
    "#Generator Function\n",
    "def generate_even_nos(n):\n",
    "    for i in range(n):\n",
    "        if i % 2 == 0:\n",
    "            yield i\n",
    "even_nos = generate_even_nos(10)\n",
    "for i in even_nos:\n",
    "    print(i)"
   ]
  },
  {
   "cell_type": "markdown",
   "metadata": {},
   "source": [
    "Yield VS Return"
   ]
  },
  {
   "cell_type": "code",
   "execution_count": 31,
   "metadata": {},
   "outputs": [
    {
     "name": "stdout",
     "output_type": "stream",
     "text": [
      "1\n",
      "[1, 4, 9, 16]\n"
     ]
    }
   ],
   "source": [
    "def func1(n):\n",
    "    for i in range(1, n):\n",
    "        return i**2\n",
    "print(func1(5))\n",
    "\n",
    "def func2(n):\n",
    "    for i in range(1, n):\n",
    "        yield i**2\n",
    "print(list(func2(5)))"
   ]
  },
  {
   "cell_type": "code",
   "execution_count": 5,
   "metadata": {},
   "outputs": [
    {
     "name": "stdout",
     "output_type": "stream",
     "text": [
      "0 2 4 6 8 "
     ]
    }
   ],
   "source": [
    "#Generator Function\n",
    "def generate_even_nos(n):\n",
    "    for i in range(n):\n",
    "        if i % 2 == 0:\n",
    "            yield i\n",
    "even_nos = generate_even_nos(10)\n",
    "for i in even_nos:\n",
    "    print(i, end=' ')"
   ]
  },
  {
   "cell_type": "markdown",
   "metadata": {},
   "source": [
    "Arbitrary functions:\n",
    "Arbitrary arguments are useful when you want to create functions that are flexible and can accept varying numbers of arguments without having to specify them individually in the function definition. They are commonly used in situations where the exact number of arguments may vary, such as when creating utility functions or functions that interact with external APIs."
   ]
  },
  {
   "cell_type": "markdown",
   "metadata": {},
   "source": [
    "1. *Arbitrary Positional Arguments (args):\n",
    "When you prefix a parameter with an asterisk (*), it collects all the positional arguments passed to the function into a tuple.\n",
    "These arguments are typically accessed by iterating over the args tuple."
   ]
  },
  {
   "cell_type": "code",
   "execution_count": 8,
   "metadata": {},
   "outputs": [
    {
     "name": "stdout",
     "output_type": "stream",
     "text": [
      "1 2 3 4 5 "
     ]
    }
   ],
   "source": [
    "#Arbitary Function (*args)\n",
    "def arb_func(*args):\n",
    "    for i in args:\n",
    "        print(i, end=' ')\n",
    "arb_func(1, 2, 3, 4, 5)"
   ]
  },
  {
   "cell_type": "markdown",
   "metadata": {},
   "source": [
    "2. Arbitrary keyword rguments (kwargs):\n",
    "When you prefix a parameter with 2 asterisks, it collects all the keyword arguments (i.e. arguments passed using key-value pairs) into a dictionary\n",
    "These arguments are typically accessed by using dictionary-like syntax to access values associcated with keys"
   ]
  },
  {
   "cell_type": "code",
   "execution_count": 11,
   "metadata": {},
   "outputs": [
    {
     "name": "stdout",
     "output_type": "stream",
     "text": [
      "name: abc age: 25 city: Hyderabad "
     ]
    }
   ],
   "source": [
    "def key_args(**kwargs):\n",
    "    for key, value in kwargs.items():\n",
    "        print(f\"{key}: {value}\", end=' ')\n",
    "key_args(name=\"abc\", age=25, city=\"Hyderabad\")"
   ]
  },
  {
   "cell_type": "markdown",
   "metadata": {},
   "source": [
    "DOC String "
   ]
  },
  {
   "cell_type": "code",
   "execution_count": 19,
   "metadata": {},
   "outputs": [
    {
     "name": "stdout",
     "output_type": "stream",
     "text": [
      "None\n",
      "abcxyz\n"
     ]
    }
   ],
   "source": [
    "def adds(s1, s2):\n",
    "    s = s1 + s2\n",
    "    return s\n",
    "\n",
    "print(adds.__doc__)\n",
    "print(adds('abc', 'xyz'))"
   ]
  },
  {
   "cell_type": "markdown",
   "metadata": {},
   "source": [
    "variable scope"
   ]
  },
  {
   "cell_type": "code",
   "execution_count": 36,
   "metadata": {},
   "outputs": [
    {
     "name": "stdout",
     "output_type": "stream",
     "text": [
      "10 20\n",
      "10 10 12\n",
      "20\n"
     ]
    }
   ],
   "source": [
    "a, b = 10, 20\n",
    "print(a, b)\n",
    "\n",
    "def func(a):\n",
    "    x=10\n",
    "    global y\n",
    "    y = 12\n",
    "    print(x, a, y)\n",
    "    print(b)\n",
    "func(a)\n",
    "# print(a, b)"
   ]
  },
  {
   "cell_type": "markdown",
   "metadata": {},
   "source": [
    "map"
   ]
  },
  {
   "cell_type": "code",
   "execution_count": 38,
   "metadata": {},
   "outputs": [
    {
     "name": "stdout",
     "output_type": "stream",
     "text": [
      "[1, 4, 9, 16, 25]\n",
      "[21, 22, 23, 24, 25]\n"
     ]
    }
   ],
   "source": [
    "lst = [1, 2, 3, 4, 5]\n",
    "sqrs = list(map(sqr, lst))\n",
    "print(sqrs)\n",
    "\n",
    "ads = list(map(lambda x: x+20, lst))\n",
    "print(ads)"
   ]
  },
  {
   "cell_type": "markdown",
   "metadata": {},
   "source": [
    "filter"
   ]
  },
  {
   "cell_type": "code",
   "execution_count": 39,
   "metadata": {},
   "outputs": [
    {
     "name": "stdout",
     "output_type": "stream",
     "text": [
      "[2, 4, 6, 8, 10, 12, 14, 16, 18, 20]\n"
     ]
    }
   ],
   "source": [
    "even = list(filter(lambda x: x%2 == 0, range(1, 21)))\n",
    "print(even)"
   ]
  },
  {
   "cell_type": "markdown",
   "metadata": {},
   "source": [
    "reduce"
   ]
  },
  {
   "cell_type": "code",
   "execution_count": 41,
   "metadata": {},
   "outputs": [
    {
     "name": "stdout",
     "output_type": "stream",
     "text": [
      "210\n"
     ]
    }
   ],
   "source": [
    "from functools import reduce\n",
    "\n",
    "a = reduce(lambda a,b: a+b, range(1, 21))\n",
    "print(a)"
   ]
  }
 ],
 "metadata": {
  "kernelspec": {
   "display_name": "base",
   "language": "python",
   "name": "python3"
  },
  "language_info": {
   "codemirror_mode": {
    "name": "ipython",
    "version": 3
   },
   "file_extension": ".py",
   "mimetype": "text/x-python",
   "name": "python",
   "nbconvert_exporter": "python",
   "pygments_lexer": "ipython3",
   "version": "3.10.9"
  }
 },
 "nbformat": 4,
 "nbformat_minor": 2
}
