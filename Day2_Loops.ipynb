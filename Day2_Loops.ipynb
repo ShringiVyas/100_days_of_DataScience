{
 "cells": [
  {
   "cell_type": "raw",
   "id": "c009d12f",
   "metadata": {},
   "source": [
    "    WHILE Looping"
   ]
  },
  {
   "cell_type": "code",
   "execution_count": 2,
   "id": "dace7e22",
   "metadata": {},
   "outputs": [
    {
     "name": "stdout",
     "output_type": "stream",
     "text": [
      "1\n",
      "2\n",
      "3\n",
      "4\n",
      "Limit exceeded\n"
     ]
    }
   ],
   "source": [
    "count =  1\n",
    "while count < 5:\n",
    "    print(count)\n",
    "    count+=1\n",
    "else:\n",
    "    print('Limit exceeded')\n",
    "    "
   ]
  },
  {
   "cell_type": "code",
   "execution_count": 1,
   "id": "12af586e",
   "metadata": {},
   "outputs": [],
   "source": [
    "# #infinite loop\n",
    "# count = 1\n",
    "# while True:\n",
    "#     print(count, end=' ')\n",
    "#     count+=1"
   ]
  },
  {
   "cell_type": "raw",
   "id": "d3a05bc4",
   "metadata": {},
   "source": [
    "FOR Looping"
   ]
  },
  {
   "cell_type": "code",
   "execution_count": 2,
   "id": "1701ce83",
   "metadata": {},
   "outputs": [
    {
     "name": "stdout",
     "output_type": "stream",
     "text": [
      "1\n",
      "2\n",
      "3\n",
      "4\n"
     ]
    }
   ],
   "source": [
    "for i in range(1, 5):\n",
    "    print(i)"
   ]
  },
  {
   "cell_type": "code",
   "execution_count": 16,
   "id": "c4625a81",
   "metadata": {},
   "outputs": [
    {
     "name": "stdout",
     "output_type": "stream",
     "text": [
      "\n",
      "List Iterations\n",
      "11 12 13 14 \n",
      "11 12 13 14 \n",
      "0 11\n",
      "1 12\n",
      "2 13\n",
      "3 14\n",
      "\n",
      "Tuple Iterations\n",
      "1 2 3 4 5 \n",
      "1 2 3 4 5 \n",
      "0 1\n",
      "1 2\n",
      "2 3\n",
      "3 4\n",
      "4 5\n",
      "\n",
      " Set Iterations\n",
      "11 12 13 14 15 \n",
      "\n",
      " Dictionary Iterations: \n",
      "1 2 3 4 5 \n",
      "11 12 13 14 15 \n",
      "(1, 11) (2, 12) (3, 13) (4, 14) (5, 15) \n",
      "1 : 11\n",
      "2 : 12\n",
      "3 : 13\n",
      "4 : 14\n",
      "5 : 15\n",
      "\n",
      "\n",
      " String Iterations: \n",
      "A B C D \n",
      "A B C D "
     ]
    }
   ],
   "source": [
    "#List iterations\n",
    "print('\\nList Iterations')\n",
    "list1 = [11, 12, 13,14]\n",
    "for i in list1:\n",
    "    print(i, end = ' ')\n",
    "print()\n",
    "\n",
    "for i in range(len(list1)):\n",
    "    print(list1[i], end=' ')\n",
    "print()\n",
    "for i, e in enumerate(list1):\n",
    "    print(i, e)\n",
    "\n",
    "#tuple iterations\n",
    "print('\\nTuple Iterations')\n",
    "tuple1 = (1, 2, 3, 4, 5)\n",
    "for i in tuple1:\n",
    "    print(i, end=' ')\n",
    "print()\n",
    "\n",
    "for i in range(len(tuple1)):\n",
    "    print(tuple1[i], end=' ')\n",
    "print()\n",
    "\n",
    "for i, e in enumerate(tuple1):\n",
    "    print(i,e)\n",
    "\n",
    "\n",
    "#Set Iterations\n",
    "print('\\n Set Iterations')\n",
    "string1 = {11, 12, 13, 14, 15}\n",
    "for i in string1:\n",
    "    print(i, end=' ')\n",
    "print()\n",
    "#set does'nt support indexing\n",
    "\n",
    "#dictionary iterations\n",
    "print('\\n Dictionary Iterations: ')\n",
    "dict1 = {1:11, 2:12, 3:13, 4:14, 5:15}\n",
    "\n",
    "for i in dict1.keys():\n",
    "    print(i, end=' ')\n",
    "print()\n",
    "\n",
    "for i in dict1.values():\n",
    "    print(i, end=' ')\n",
    "print()\n",
    "\n",
    "for i in dict1.items():\n",
    "    print(i, end=' ')\n",
    "print()\n",
    "\n",
    "for i in dict1.keys():\n",
    "    print( i, ':', dict1[i])\n",
    "print()\n",
    "\n",
    "#String Iterations\n",
    "\n",
    "print('\\n String Iterations: ')\n",
    "\n",
    "string1 = 'ABCD'\n",
    "\n",
    "for i in string1:\n",
    "    print( i, end=' ')\n",
    "print()\n",
    "\n",
    "for i in range(len(string1)):\n",
    "    print(string1[i], end=' ')\n"
   ]
  },
  {
   "cell_type": "raw",
   "id": "93598197",
   "metadata": {},
   "source": [
    "Nested Loops"
   ]
  },
  {
   "cell_type": "code",
   "execution_count": 18,
   "id": "027a0e77",
   "metadata": {},
   "outputs": [
    {
     "name": "stdout",
     "output_type": "stream",
     "text": [
      "@ \n",
      "@ @ \n",
      "@ @ @ \n",
      "@ @ @ @ \n"
     ]
    }
   ],
   "source": [
    "for i in range(1, 5):\n",
    "    for b in range(i):\n",
    "        print('@', end=' ')\n",
    "    print()"
   ]
  },
  {
   "cell_type": "raw",
   "id": "901504c6",
   "metadata": {},
   "source": [
    "Looping Control Statements"
   ]
  },
  {
   "cell_type": "code",
   "execution_count": 20,
   "id": "0eb7c8f7",
   "metadata": {},
   "outputs": [
    {
     "name": "stdout",
     "output_type": "stream",
     "text": [
      "2\n",
      "4\n",
      "6\n",
      "8\n"
     ]
    }
   ],
   "source": [
    "for i in range(1, 10):\n",
    "    if i%2 == 1:\n",
    "        continue\n",
    "    print(i)"
   ]
  },
  {
   "cell_type": "code",
   "execution_count": 21,
   "id": "a7e73adf",
   "metadata": {},
   "outputs": [
    {
     "name": "stdout",
     "output_type": "stream",
     "text": [
      "1\n",
      "2\n",
      "3\n",
      "4\n"
     ]
    }
   ],
   "source": [
    "for i in range(1, 10):\n",
    "    if i%5==0:\n",
    "        break\n",
    "    print(i)"
   ]
  },
  {
   "cell_type": "code",
   "execution_count": 22,
   "id": "3b23279b",
   "metadata": {},
   "outputs": [
    {
     "name": "stdout",
     "output_type": "stream",
     "text": [
      "Hello World!\n"
     ]
    }
   ],
   "source": [
    "for i in range(5):\n",
    "    pass\n",
    "print('Hello World!')"
   ]
  }
 ],
 "metadata": {
  "kernelspec": {
   "display_name": "Python 3 (ipykernel)",
   "language": "python",
   "name": "python3"
  },
  "language_info": {
   "codemirror_mode": {
    "name": "ipython",
    "version": 3
   },
   "file_extension": ".py",
   "mimetype": "text/x-python",
   "name": "python",
   "nbconvert_exporter": "python",
   "pygments_lexer": "ipython3",
   "version": "3.10.9"
  }
 },
 "nbformat": 4,
 "nbformat_minor": 5
}
