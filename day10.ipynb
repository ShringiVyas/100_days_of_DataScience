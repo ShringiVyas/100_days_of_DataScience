{
 "cells": [
  {
   "cell_type": "markdown",
   "metadata": {},
   "source": [
    "Statistics"
   ]
  },
  {
   "cell_type": "markdown",
   "metadata": {},
   "source": [
    "descriptive statistics: Mean, Median, Mode, Standard Deviation"
   ]
  },
  {
   "cell_type": "code",
   "execution_count": 5,
   "metadata": {},
   "outputs": [
    {
     "name": "stdout",
     "output_type": "stream",
     "text": [
      "3.0\n",
      " 3.0\n",
      " 1\n",
      " 1.4142135623730951\n"
     ]
    },
    {
     "name": "stderr",
     "output_type": "stream",
     "text": [
      "C:\\Users\\vineet\\AppData\\Local\\Temp\\ipykernel_17212\\2104975476.py:10: FutureWarning: Unlike other reduction functions (e.g. `skew`, `kurtosis`), the default behavior of `mode` typically preserves the axis it acts along. In SciPy 1.11.0, this behavior will change: the default value of `keepdims` will become False, the `axis` over which the statistic is taken will be eliminated, and the value None will no longer be accepted. Set `keepdims` to True or False to avoid this warning.\n",
      "  mode = stats.mode(data).mode[0]\n"
     ]
    }
   ],
   "source": [
    "import numpy as np \n",
    "from scipy import stats\n",
    "\n",
    "data = np.array([1, 2, 3, 4, 5])\n",
    "\n",
    "mean = np.mean(data)\n",
    "\n",
    "median = np.median(data)\n",
    "\n",
    "mode = stats.mode(data).mode[0]\n",
    "\n",
    "std_deviation = np.std(data)\n",
    "\n",
    "print(f'{mean}\\n {median}\\n {mode}\\n {std_deviation}')"
   ]
  },
  {
   "cell_type": "markdown",
   "metadata": {},
   "source": [
    "Correlation: pearson correlation coefficient, spearman rank correlation coefficient"
   ]
  },
  {
   "cell_type": "code",
   "execution_count": 6,
   "metadata": {},
   "outputs": [
    {
     "name": "stdout",
     "output_type": "stream",
     "text": [
      "pearson correlation coefficient:  0.9999999999999999\n",
      "spearman rank correlation coefficient:  0.9999999999999999\n"
     ]
    }
   ],
   "source": [
    "import pandas as pd\n",
    "\n",
    "data = pd.DataFrame({\n",
    "    'A' : [1, 2, 3, 4, 5],\n",
    "    'B' : [11, 12, 13, 14, 15]\n",
    "})\n",
    "\n",
    "#pearson correlation coefficient\n",
    "pearson_corr = data['A'].corr(data['B'], method = 'pearson')\n",
    "\n",
    "#spearman correlation coefficient\n",
    "spearman_corr = data['A'].corr(data['B'], method='spearman')\n",
    "\n",
    "print('pearson correlation coefficient: ', pearson_corr)\n",
    "print('spearman rank correlation coefficient: ', spearman_corr)"
   ]
  },
  {
   "cell_type": "markdown",
   "metadata": {},
   "source": [
    "Hypothesis Testing: T-test, Chi-Sqaure test"
   ]
  },
  {
   "cell_type": "code",
   "execution_count": 16,
   "metadata": {},
   "outputs": [
    {
     "name": "stdout",
     "output_type": "stream",
     "text": [
      "T-test:  0.6305360755569764\n",
      "Chi-square test:  8.333333333333334 , degree of freedom:  2\n"
     ]
    }
   ],
   "source": [
    "from scipy.stats import ttest_ind, chisquare\n",
    "\n",
    "group1 = [75, 85, 95, 105, 115]\n",
    "group2 = [70, 80, 90, 100, 110]\n",
    "\n",
    "#T-test\n",
    "t_statistic, p_value = ttest_ind(group1, group2)\n",
    "\n",
    "#Chi-sqaure test\n",
    "def chi_square(observe, expect):\n",
    "    observe = np.array(observe)\n",
    "    expect = np.array(expect)\n",
    "\n",
    "    chi2 = np.sum((observe - expect)**2 / expect)\n",
    "\n",
    "    degree_of_freedom = len(observe) - 1\n",
    "    return chi2, degree_of_freedom\n",
    "\n",
    "observe = [10, 15, 25]\n",
    "expect = [15, 15, 15]\n",
    "\n",
    "chi2_stat, degree_of_freedom = chi_square(observe, expect)\n",
    "\n",
    "print('T-test: ', p_value)\n",
    "print('Chi-square test: ', chi2_stat, ', degree of freedom: ', degree_of_freedom)\n"
   ]
  },
  {
   "cell_type": "markdown",
   "metadata": {},
   "source": [
    "Random number generation"
   ]
  },
  {
   "cell_type": "code",
   "execution_count": 18,
   "metadata": {},
   "outputs": [
    {
     "name": "stdout",
     "output_type": "stream",
     "text": [
      "[-0.24438312  0.82364031  2.36471819 -0.41241152  0.64969867  1.40963532\n",
      "  1.19017889  0.98588987  0.68082481 -1.32844521]\n"
     ]
    }
   ],
   "source": [
    "import numpy as np\n",
    "random_nos = np.random.normal(loc=0, scale=1, size=100)\n",
    "print(random_nos)"
   ]
  }
 ],
 "metadata": {
  "kernelspec": {
   "display_name": "base",
   "language": "python",
   "name": "python3"
  },
  "language_info": {
   "codemirror_mode": {
    "name": "ipython",
    "version": 3
   },
   "file_extension": ".py",
   "mimetype": "text/x-python",
   "name": "python",
   "nbconvert_exporter": "python",
   "pygments_lexer": "ipython3",
   "version": "3.10.9"
  }
 },
 "nbformat": 4,
 "nbformat_minor": 2
}
