{
 "cells": [
  {
   "cell_type": "markdown",
   "metadata": {},
   "source": [
    "FILE HANDLING"
   ]
  },
  {
   "cell_type": "code",
   "execution_count": 27,
   "metadata": {},
   "outputs": [
    {
     "name": "stdout",
     "output_type": "stream",
     "text": [
      "File opened successfully\n"
     ]
    }
   ],
   "source": [
    "#Open a file\n",
    "file_loc = open(\"day5.txt\", \"r\")\n",
    "\n",
    "\n",
    "if file_loc:\n",
    "    print(\"File opened successfully\")"
   ]
  },
  {
   "cell_type": "markdown",
   "metadata": {},
   "source": [
    "Read or Write - File Operations"
   ]
  },
  {
   "cell_type": "code",
   "execution_count": 32,
   "metadata": {},
   "outputs": [
    {
     "name": "stdout",
     "output_type": "stream",
     "text": [
      "File Handling text file line 1\n",
      "\n",
      "File Handling text file line 2\n",
      "\n",
      "File Handling text file line 3\n",
      "\n",
      "File Handling text file line 4\n",
      "\n",
      "File Handling text file line 5\n"
     ]
    }
   ],
   "source": [
    "file_loc = open('day5.txt', 'r')\n",
    "for i in file_loc:\n",
    "    print(i) #printing each line in the file"
   ]
  },
  {
   "cell_type": "code",
   "execution_count": 31,
   "metadata": {},
   "outputs": [
    {
     "name": "stdout",
     "output_type": "stream",
     "text": [
      "File Handling text file line 1\n",
      "File Handling text file line 2\n",
      "File Handling text file line 3\n",
      "File Handling text file line 4\n",
      "File Handling text file line 5\n"
     ]
    }
   ],
   "source": [
    "#Read()\n",
    "file_loc = open('day5.txt', 'r') \n",
    "print(file_loc.read())"
   ]
  },
  {
   "cell_type": "code",
   "execution_count": 33,
   "metadata": {},
   "outputs": [
    {
     "name": "stdout",
     "output_type": "stream",
     "text": [
      "File Hand\n"
     ]
    }
   ],
   "source": [
    "#Read with specific characters\n",
    "with open('day5.txt', 'r') as file:\n",
    "    print(file.read(9))"
   ]
  },
  {
   "cell_type": "code",
   "execution_count": 26,
   "metadata": {},
   "outputs": [
    {
     "name": "stdout",
     "output_type": "stream",
     "text": [
      "File Handling text file line 1\n",
      "\n",
      "File Handling text file line 2\n",
      "\n",
      "File Handling text file line 3\n",
      "\n",
      "File Handling text file line 4\n",
      "\n"
     ]
    }
   ],
   "source": [
    "#Readline\n",
    "with open('day5.txt', 'r') as file:\n",
    "    print(file.readline())\n",
    "    print(file.readline())\n",
    "    print(file.readline())\n",
    "    print(file.readline())\n",
    "file.close()"
   ]
  },
  {
   "cell_type": "code",
   "execution_count": 36,
   "metadata": {},
   "outputs": [
    {
     "name": "stdout",
     "output_type": "stream",
     "text": [
      "File Handling text file line 1\n",
      "\n",
      "File Handling text file line 2\n",
      "\n",
      "File Handling text file line 3\n",
      "\n",
      "File Handling text file line 4\n",
      "\n",
      "File Handling text file line 5\n"
     ]
    }
   ],
   "source": [
    "#readline() using loop\n",
    "file = open('day5.txt', 'r')\n",
    "line = file.readline()\n",
    "while line:\n",
    "    print(line)\n",
    "    line = file.readline()\n",
    "file.close()"
   ]
  },
  {
   "cell_type": "code",
   "execution_count": 39,
   "metadata": {},
   "outputs": [
    {
     "name": "stdout",
     "output_type": "stream",
     "text": [
      "['File Handling text file line 1\\n', 'File Handling text file line 2\\n', 'File Handling text file line 3\\n', 'File Handling text file line 4\\n', 'File Handling text file line 5']\n",
      "['File', 'Handling', 'text', 'file', 'line', '1']\n",
      "['File', 'Handling', 'text', 'file', 'line', '2']\n",
      "['File', 'Handling', 'text', 'file', 'line', '3']\n",
      "['File', 'Handling', 'text', 'file', 'line', '4']\n",
      "['File', 'Handling', 'text', 'file', 'line', '5']\n"
     ]
    }
   ],
   "source": [
    "#readlines()\n",
    "with open('day5.txt', 'r') as file:\n",
    "    data = file.readlines()\n",
    "    print(data)\n",
    "    for i in data:\n",
    "        print(i.split())\n",
    "file.close()\n",
    "    "
   ]
  },
  {
   "cell_type": "code",
   "execution_count": 46,
   "metadata": {},
   "outputs": [
    {
     "name": "stdout",
     "output_type": "stream",
     "text": [
      "This line is newly added via write() operation\n"
     ]
    }
   ],
   "source": [
    "#write\n",
    "file = open('write_day5.txt', 'w')\n",
    "file.write(\"This line is newly added via write() operation\")\n",
    "file = open('write_day5.txt', 'r')\n",
    "# for i in file:\n",
    "#     print(i)"
   ]
  },
  {
   "cell_type": "code",
   "execution_count": 47,
   "metadata": {},
   "outputs": [],
   "source": [
    "#write() with keyword\n",
    "with open('write_day5.txt', 'w') as file:\n",
    "    file.write('writing another new line \\n')\n",
    "file.close()"
   ]
  },
  {
   "cell_type": "code",
   "execution_count": 51,
   "metadata": {},
   "outputs": [],
   "source": [
    "#writelines()\n",
    "files = open('other_file.txt', 'w')\n",
    "file_list = ['Hi, \\n', 'Hello \\n', 'Good \\n']\n",
    "files.writelines(file_list)"
   ]
  },
  {
   "cell_type": "code",
   "execution_count": 60,
   "metadata": {},
   "outputs": [
    {
     "data": {
      "text/plain": [
       "24"
      ]
     },
     "execution_count": 60,
     "metadata": {},
     "output_type": "execute_result"
    }
   ],
   "source": [
    "#append()\n",
    "file = open('write_day5.txt', 'a')\n",
    "file.write('\\n Appending a new line \\n') #number of characters here to be appended are 24, so the output is 24; however, the line gets appended\n"
   ]
  },
  {
   "cell_type": "markdown",
   "metadata": {},
   "source": [
    "Close File Operations"
   ]
  },
  {
   "cell_type": "code",
   "execution_count": 62,
   "metadata": {},
   "outputs": [
    {
     "name": "stdout",
     "output_type": "stream",
     "text": [
      "file has opened successfully\n",
      "False\n",
      "True\n"
     ]
    }
   ],
   "source": [
    "#close()\n",
    "file = open('day5.txt', 'r')\n",
    "if file:\n",
    "    print('file has opened successfully')\n",
    "print(file.closed) #prints False because the file is still opened\n",
    "\n",
    "#closing the opened file\n",
    "file.close()\n",
    "print(file.closed)"
   ]
  },
  {
   "cell_type": "code",
   "execution_count": 66,
   "metadata": {},
   "outputs": [
    {
     "name": "stdout",
     "output_type": "stream",
     "text": [
      "Please enter a valid file location\n"
     ]
    }
   ],
   "source": [
    "#try-finally file operations\n",
    "try:\n",
    "    file = open('day3.txt', 'r')\n",
    "except FileNotFoundError:\n",
    "    # print(FileNotFoundError.__doc__) --> prints 'File not found'\n",
    "    print(\"Please enter a valid file location\")\n",
    "finally:\n",
    "    file.close()\n",
    "    "
   ]
  },
  {
   "cell_type": "code",
   "execution_count": 67,
   "metadata": {},
   "outputs": [
    {
     "name": "stdout",
     "output_type": "stream",
     "text": [
      "<_io.TextIOWrapper name='day5.txt' mode='r' encoding='UTF-8'>\n"
     ]
    }
   ],
   "source": [
    "file = open('day5.txt', 'r')\n",
    "print(file)"
   ]
  },
  {
   "cell_type": "markdown",
   "metadata": {},
   "source": [
    "OS Module Operations"
   ]
  },
  {
   "cell_type": "code",
   "execution_count": 69,
   "metadata": {},
   "outputs": [],
   "source": [
    "#rename()\n",
    "import os\n",
    "os.rename('write.txt', 'renamed_write.txt')"
   ]
  },
  {
   "cell_type": "code",
   "execution_count": 1,
   "metadata": {},
   "outputs": [],
   "source": [
    "#remove()\n",
    "import os\n",
    "\n",
    "file = open('write_new.txt', 'w')\n",
    "file.write('os module operations')\n",
    "file.write('os module operations 12345')\n",
    "file.close()\n",
    "\n",
    "#note: upon closing the file only then will the remove() operation function\n",
    "os.remove('write_new.txt')\n",
    "\n"
   ]
  },
  {
   "cell_type": "code",
   "execution_count": 13,
   "metadata": {},
   "outputs": [],
   "source": [
    "#mkdir()\n",
    "import os\n",
    "os.mkdir('new_directory1')\n",
    "os.mkdir('new_directory2')"
   ]
  },
  {
   "cell_type": "code",
   "execution_count": 5,
   "metadata": {},
   "outputs": [],
   "source": [
    "#cd()\n",
    "import os\n",
    "os.chdir('new_directory') #changes the directory \n"
   ]
  },
  {
   "cell_type": "code",
   "execution_count": 7,
   "metadata": {},
   "outputs": [
    {
     "data": {
      "text/plain": [
       "'c:\\\\Users\\\\vineet\\\\OneDrive\\\\vscode_online\\\\100_DataScience\\\\new_directory'"
      ]
     },
     "execution_count": 7,
     "metadata": {},
     "output_type": "execute_result"
    }
   ],
   "source": [
    "#getcwd()\n",
    "import os\n",
    "os.getcwd()\n",
    "#prints the current directory"
   ]
  },
  {
   "cell_type": "code",
   "execution_count": 14,
   "metadata": {},
   "outputs": [],
   "source": [
    "#rmdir\n",
    "os.rmdir('new_directory1')\n",
    "#removes directory"
   ]
  }
 ],
 "metadata": {
  "kernelspec": {
   "display_name": "base",
   "language": "python",
   "name": "python3"
  },
  "language_info": {
   "codemirror_mode": {
    "name": "ipython",
    "version": 3
   },
   "file_extension": ".py",
   "mimetype": "text/x-python",
   "name": "python",
   "nbconvert_exporter": "python",
   "pygments_lexer": "ipython3",
   "version": "3.10.9"
  }
 },
 "nbformat": 4,
 "nbformat_minor": 2
}
